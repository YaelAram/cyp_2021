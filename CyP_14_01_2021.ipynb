{
  "nbformat": 4,
  "nbformat_minor": 0,
  "metadata": {
    "colab": {
      "name": "CyP_14_01_2021.ipynb",
      "provenance": [],
      "authorship_tag": "ABX9TyOubcHnsJkUrbGD+mXFUluo",
      "include_colab_link": true
    },
    "kernelspec": {
      "name": "python3",
      "display_name": "Python 3"
    }
  },
  "cells": [
    {
      "cell_type": "markdown",
      "metadata": {
        "id": "view-in-github",
        "colab_type": "text"
      },
      "source": [
        "<a href=\"https://colab.research.google.com/github/YaelAram/cyp_2021/blob/master/CyP_14_01_2021.ipynb\" target=\"_parent\"><img src=\"https://colab.research.google.com/assets/colab-badge.svg\" alt=\"Open In Colab\"/></a>"
      ]
    },
    {
      "cell_type": "code",
      "metadata": {
        "colab": {
          "base_uri": "https://localhost:8080/"
        },
        "id": "fV-ipM4R04cP",
        "outputId": "62467ae0-4c4f-4f66-f2f4-05009e4ab651"
      },
      "source": [
        "lista_animal = []\r\n",
        "for i in range(3):\r\n",
        "    animal = input(\"Animal: \").title()\r\n",
        "    lista_animal.append(animal)\r\n",
        "for i in filter(lambda animal: animal[0] == 'G', lista_animal):\r\n",
        "    print(i)\r\n",
        "\r\n",
        "lista_animal = [\"Perro\", \"Cocodrilo\", \"Tiburon\"]\r\n",
        "lista_animal.sort(key=lambda animal: len(animal))\r\n",
        "for i in lista_animal:\r\n",
        "    print(i)\r\n"
      ],
      "execution_count": 13,
      "outputs": [
        {
          "output_type": "stream",
          "text": [
            "Animal: perro\n",
            "Animal: gato\n",
            "Animal: leon\n",
            "Gato\n",
            "Perro\n",
            "Tiburon\n",
            "Cocodrilo\n"
          ],
          "name": "stdout"
        }
      ]
    },
    {
      "cell_type": "code",
      "metadata": {
        "colab": {
          "base_uri": "https://localhost:8080/"
        },
        "id": "yKtA7JHaHGHQ",
        "outputId": "3042b384-dca2-40d6-a063-b66fe5172484"
      },
      "source": [
        "numero_complejo = complex(3, 4)\r\n",
        "print(numero_complejo)\r\n",
        "print(f\"Parte real: {numero_complejo.real} \\nParte imaginaria: {numero_complejo.imag}i\")\r\n"
      ],
      "execution_count": 17,
      "outputs": [
        {
          "output_type": "stream",
          "text": [
            "(3+4j)\n",
            "Parte real: 3.0 \n",
            "Parte imaginaria: 4.0i\n"
          ],
          "name": "stdout"
        }
      ]
    },
    {
      "cell_type": "code",
      "metadata": {
        "colab": {
          "base_uri": "https://localhost:8080/"
        },
        "id": "KuCLcHqxH96y",
        "outputId": "9103e333-fa28-45d0-e89f-eef3cce22a12"
      },
      "source": [
        "frase = input(\"Frase: \")\r\n",
        "for i in frase:\r\n",
        "    print(i, end=\"\")\r\n"
      ],
      "execution_count": 42,
      "outputs": [
        {
          "output_type": "stream",
          "text": [
            "Frase: Hola Mundo\n",
            "Hola Mundo"
          ],
          "name": "stdout"
        }
      ]
    },
    {
      "cell_type": "code",
      "metadata": {
        "colab": {
          "base_uri": "https://localhost:8080/"
        },
        "id": "WJotFTOhIMoh",
        "outputId": "83be897d-9013-4f23-df39-cf3b90085b71"
      },
      "source": [
        "class Cuadrilatero:\r\n",
        "    _nombre = None\r\n",
        "    _ancho = None\r\n",
        "    _largo = None\r\n",
        "    def __init__(self, nombre=\"\", ancho=0.0, largo=0.0):\r\n",
        "        self._nombre = nombre \r\n",
        "        self._ancho = ancho\r\n",
        "        self._largo = largo\r\n",
        "    def __str__(self):\r\n",
        "        return f\"Figura: {self._nombre} \\nAncho: {self._ancho}u \\nLargo: {self._largo}u\"\r\n",
        "    def area(self):\r\n",
        "        return \"Area: {0:.3f}u2\".format(self._ancho * self._largo)\r\n",
        "\r\n",
        "rectangulo = Cuadrilatero(\"Rectangulo\", 2.3, 4.1)\r\n",
        "cuadrado = Cuadrilatero(\"Cuadrado\", 3.4, 8.9)\r\n",
        "print(rectangulo)\r\n",
        "print(rectangulo.area())\r\n",
        "print(cuadrado)\r\n",
        "print(cuadrado.area())\r\n"
      ],
      "execution_count": 25,
      "outputs": [
        {
          "output_type": "stream",
          "text": [
            "Figura: Rectangulo \n",
            "Ancho: 2.3u \n",
            "Largo: 4.1u\n",
            "Area: 9.430u2\n",
            "Figura: Cuadrado \n",
            "Ancho: 3.4u \n",
            "Largo: 8.9u\n",
            "Area: 30.260u2\n"
          ],
          "name": "stdout"
        }
      ]
    },
    {
      "cell_type": "code",
      "metadata": {
        "colab": {
          "base_uri": "https://localhost:8080/"
        },
        "id": "F-nJynNIMQC3",
        "outputId": "dc705f17-bfea-42cb-8415-ef2f50e81b34"
      },
      "source": [
        "frase = input(\"Frase: \")\r\n",
        "for i in range(0, -len(frase), -1):\r\n",
        "    print(frase[i - 1], end=\"\")\r\n"
      ],
      "execution_count": 30,
      "outputs": [
        {
          "output_type": "stream",
          "text": [
            "Frase: Hola Mundo\n",
            "odnuM aloH"
          ],
          "name": "stdout"
        }
      ]
    },
    {
      "cell_type": "code",
      "metadata": {
        "colab": {
          "base_uri": "https://localhost:8080/"
        },
        "id": "5RQnlcsCNZIa",
        "outputId": "81b26d57-7d1a-4cb0-de43-0254b1cf9060"
      },
      "source": [
        "lista_numero = []\r\n",
        "longitud = int(input(\"Tamaño: \"))\r\n",
        "for i in range(longitud):\r\n",
        "    lista_numero.append(float(input(\"Numero: \")))\r\n",
        "lista_numero.sort()\r\n",
        "cantidad = int(len(lista_numero)/2)\r\n",
        "if longitud%2 == 0:\r\n",
        "    moda = lista_numero[cantidad - 1:cantidad + 1]\r\n",
        "else:\r\n",
        "    moda = lista_numero[cantidad:cantidad + 1]\r\n",
        "print(moda)\r\n"
      ],
      "execution_count": 41,
      "outputs": [
        {
          "output_type": "stream",
          "text": [
            "Tamaño: 4\n",
            "Numero: 1\n",
            "Numero: 2\n",
            "Numero: 3\n",
            "Numero: 4\n",
            "[2.0, 3.0]\n"
          ],
          "name": "stdout"
        }
      ]
    },
    {
      "cell_type": "code",
      "metadata": {
        "colab": {
          "base_uri": "https://localhost:8080/"
        },
        "id": "WMW-tDCYR2hy",
        "outputId": "7b79ab43-9dd9-4c82-e796-7327bb95695d"
      },
      "source": [
        "escuela = \"Facultad de Estudios Superiores Aragon\"\r\n",
        "for index, i in enumerate(escuela):\r\n",
        "    if i == 'E':\r\n",
        "        for j in range(index, len(escuela)):\r\n",
        "            if escuela[j] == ' ':\r\n",
        "                break\r\n",
        "            print(escuela[j], end=\"\")\r\n",
        "        break\r\n"
      ],
      "execution_count": 50,
      "outputs": [
        {
          "output_type": "stream",
          "text": [
            "Estudios"
          ],
          "name": "stdout"
        }
      ]
    },
    {
      "cell_type": "code",
      "metadata": {
        "colab": {
          "base_uri": "https://localhost:8080/"
        },
        "id": "jZNf9GXSRaKh",
        "outputId": "6a4df078-71dc-4e8c-b54c-6e7624d1ecec"
      },
      "source": [
        "escuela = \"Facultad de Estudios Superiores Aragon\"\r\n",
        "print(escuela[12:21])\r\n"
      ],
      "execution_count": 43,
      "outputs": [
        {
          "output_type": "stream",
          "text": [
            "Estudios \n"
          ],
          "name": "stdout"
        }
      ]
    },
    {
      "cell_type": "code",
      "metadata": {
        "colab": {
          "base_uri": "https://localhost:8080/"
        },
        "id": "3DK7XKZsLgkv",
        "outputId": "72f99b65-3aa5-4a73-cf29-0723a76090e6"
      },
      "source": [
        "frase = input(\"Frase: \")\r\n",
        "for i in frase[::-1]:\r\n",
        "    print(i, end=\"\")\r\n"
      ],
      "execution_count": 24,
      "outputs": [
        {
          "output_type": "stream",
          "text": [
            "Frase: Hola Mundo\n",
            "odnuM aloH"
          ],
          "name": "stdout"
        }
      ]
    }
  ]
}