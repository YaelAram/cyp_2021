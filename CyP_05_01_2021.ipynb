{
  "nbformat": 4,
  "nbformat_minor": 0,
  "metadata": {
    "colab": {
      "name": "CyP_05_01_2021.ipynb",
      "provenance": [],
      "authorship_tag": "ABX9TyPmSLzLdc07mWj2BsL5FPyu",
      "include_colab_link": true
    },
    "kernelspec": {
      "name": "python3",
      "display_name": "Python 3"
    }
  },
  "cells": [
    {
      "cell_type": "markdown",
      "metadata": {
        "id": "view-in-github",
        "colab_type": "text"
      },
      "source": [
        "<a href=\"https://colab.research.google.com/github/YaelAram/cyp_2021/blob/master/CyP_05_01_2021.ipynb\" target=\"_parent\"><img src=\"https://colab.research.google.com/assets/colab-badge.svg\" alt=\"Open In Colab\"/></a>"
      ]
    },
    {
      "cell_type": "code",
      "metadata": {
        "colab": {
          "base_uri": "https://localhost:8080/"
        },
        "id": "gQYUzjPtjBVd",
        "outputId": "77754b1e-cece-44d0-8498-992f21bf7333"
      },
      "source": [
        "sueldo = [float(x + 1) for x in range(7)]\r\n",
        "print(sueldo)\r\n"
      ],
      "execution_count": 6,
      "outputs": [
        {
          "output_type": "stream",
          "text": [
            "[1.0, 2.0, 3.0, 4.0, 5.0, 6.0, 7.0]\n"
          ],
          "name": "stdout"
        }
      ]
    },
    {
      "cell_type": "code",
      "metadata": {
        "colab": {
          "base_uri": "https://localhost:8080/"
        },
        "id": "j6mFJHR3l05t",
        "outputId": "9df20387-162e-4648-d4fb-9d24c13b6506"
      },
      "source": [
        "sueldo = []\r\n",
        "for i in range(7):\r\n",
        "    sueldo.append(float(i + 1))\r\n",
        "print(sueldo)\r\n"
      ],
      "execution_count": 8,
      "outputs": [
        {
          "output_type": "stream",
          "text": [
            "[1.0, 2.0, 3.0, 4.0, 5.0, 6.0, 7.0]\n"
          ],
          "name": "stdout"
        }
      ]
    },
    {
      "cell_type": "code",
      "metadata": {
        "colab": {
          "base_uri": "https://localhost:8080/"
        },
        "id": "4s4vMDrformW",
        "outputId": "816d5ac6-db2b-49bd-b7e1-99921b8a788d"
      },
      "source": [
        "sueldo = []\r\n",
        "promedio = 0.0\r\n",
        "for i in range(7):\r\n",
        "    aux = float(input(f\"Sueldo trabajador {i + 1}: $\"))\r\n",
        "    sueldo.append(aux)\r\n",
        "    promedio += aux\r\n",
        "promedio /= 7\r\n",
        "print(\"Salario promedio: ${0:.2f}\".format(promedio))\r\n",
        "for index, i in enumerate(sueldo):\r\n",
        "    if i > promedio:\r\n",
        "        print(f\"Trabajador {index + 1} por encima del promedio. Salario: ${i}\")\r\n"
      ],
      "execution_count": 14,
      "outputs": [
        {
          "output_type": "stream",
          "text": [
            "Sueldo trabajador 1: $100\n",
            "Sueldo trabajador 2: $102\n",
            "Sueldo trabajador 3: $100\n",
            "Sueldo trabajador 4: $100\n",
            "Sueldo trabajador 5: $103\n",
            "Sueldo trabajador 6: $100\n",
            "Sueldo trabajador 7: $101\n",
            "Salario promedio: $100.86\n",
            "Trabajador 2 por encima del promedio. Salario: $102.0\n",
            "Trabajador 5 por encima del promedio. Salario: $103.0\n",
            "Trabajador 7 por encima del promedio. Salario: $101.0\n"
          ],
          "name": "stdout"
        }
      ]
    },
    {
      "cell_type": "code",
      "metadata": {
        "colab": {
          "base_uri": "https://localhost:8080/"
        },
        "id": "uDd1FhhRs0V2",
        "outputId": "a19a6fc5-4f81-470c-ac79-3c74befe186f"
      },
      "source": [
        "valor = []\r\n",
        "promedio = 0.0\r\n",
        "while True:\r\n",
        "    aux = float(input(\"Valor: \"))\r\n",
        "    if aux >= 0 :\r\n",
        "        valor.append(aux)\r\n",
        "        promedio += aux\r\n",
        "        if len(valor) == 5: break\r\n",
        "    else:\r\n",
        "        print(\"Valor no introducido\")\r\n",
        "\r\n",
        "for i in range(5):\r\n",
        "    for j in range(5 - 1):\r\n",
        "        if valor[j] > valor[j + 1]:\r\n",
        "            aux = valor[j + 1]\r\n",
        "            valor[j + 1] = valor[j]\r\n",
        "            valor[j] = aux\r\n",
        "promedio /= 5\r\n",
        "print(f\"El promedio fue: {promedio}\")\r\n",
        "print(f\"El mayor fue: {valor[-1]}\")\r\n",
        "print(f\"El menor fue: {valor[0]}\")\r\n"
      ],
      "execution_count": 18,
      "outputs": [
        {
          "output_type": "stream",
          "text": [
            "Valor: 8\n",
            "Valor: 7\n",
            "Valor: 1\n",
            "Valor: 23\n",
            "Valor: 5\n",
            "El promedio fue: 8.8\n",
            "El mayor fue: 23.0\n",
            "El menor fue: 1.0\n"
          ],
          "name": "stdout"
        }
      ]
    },
    {
      "cell_type": "code",
      "metadata": {
        "colab": {
          "base_uri": "https://localhost:8080/"
        },
        "id": "j1mitYD3uxoX",
        "outputId": "be47e9ea-0bee-4b90-cdbe-dd3a95459e68"
      },
      "source": [
        "valor = []\r\n",
        "promedio = 0.0\r\n",
        "while True:\r\n",
        "    aux = float(input(\"Valor: \"))\r\n",
        "    if aux >= 0 :\r\n",
        "        valor.append(aux)\r\n",
        "        promedio += aux\r\n",
        "        if len(valor) == 5: break\r\n",
        "    else:\r\n",
        "        print(\"Valor no introducido\")\r\n",
        "\r\n",
        "valor.sort()\r\n",
        "promedio /= 5\r\n",
        "print(f\"El promedio fue: {promedio}\")\r\n",
        "print(f\"El mayor fue: {valor[-1]}\")\r\n",
        "print(f\"El menor fue: {valor[0]}\")\r\n"
      ],
      "execution_count": 19,
      "outputs": [
        {
          "output_type": "stream",
          "text": [
            "Valor: 23\n",
            "Valor: 1\n",
            "Valor: 45\n",
            "Valor: 12\n",
            "Valor: 14\n",
            "El promedio fue: 19.0\n",
            "El mayor fue: 45.0\n",
            "El menor fue: 1.0\n"
          ],
          "name": "stdout"
        }
      ]
    },
    {
      "cell_type": "code",
      "metadata": {
        "colab": {
          "base_uri": "https://localhost:8080/"
        },
        "id": "8Ouyo7shvFGM",
        "outputId": "0f967087-a393-4dec-87f4-d782742bbf62"
      },
      "source": [
        "lista = []\r\n",
        "numero_dato = int(input(\"Numero de datos: \"))\r\n",
        "for i in range(numero_dato):\r\n",
        "    lista.append(float(input(\"Dato: \")))\r\n",
        "print(lista)\r\n",
        "lista = list(set(lista))\r\n",
        "print(lista)\r\n"
      ],
      "execution_count": 33,
      "outputs": [
        {
          "output_type": "stream",
          "text": [
            "Numero de datos: 5\n",
            "Dato: 1\n",
            "Dato: 2\n",
            "Dato: 2\n",
            "Dato: 3\n",
            "Dato: 3\n",
            "[1.0, 2.0, 2.0, 3.0, 3.0]\n",
            "[1.0, 2.0, 3.0]\n"
          ],
          "name": "stdout"
        }
      ]
    },
    {
      "cell_type": "code",
      "metadata": {
        "colab": {
          "base_uri": "https://localhost:8080/"
        },
        "id": "QKSRiXj5wrnn",
        "outputId": "66c8d3cd-a235-47d6-d7cf-5feab7cfa891"
      },
      "source": [
        "lista = []\r\n",
        "conjunto = []\r\n",
        "ultimo = 0.0\r\n",
        "numero_dato = int(input(\"Numero de datos: \"))\r\n",
        "for i in range(numero_dato):\r\n",
        "    lista.append(float(input(\"Dato: \")))\r\n",
        "conjunto.append(lista[0])\r\n",
        "ultimo = lista[0]\r\n",
        "for index, i in enumerate(lista):\r\n",
        "    if ultimo != i:\r\n",
        "        conjunto.append(i)\r\n",
        "        ultimo = i\r\n",
        "print(lista)\r\n",
        "print(conjunto)\r\n"
      ],
      "execution_count": 31,
      "outputs": [
        {
          "output_type": "stream",
          "text": [
            "Numero de datos: 5\n",
            "Dato: 1\n",
            "Dato: 2\n",
            "Dato: 3\n",
            "Dato: 4\n",
            "Dato: 4\n",
            "[1.0, 2.0, 3.0, 4.0, 4.0]\n",
            "[1.0, 2.0, 3.0, 4.0]\n"
          ],
          "name": "stdout"
        }
      ]
    }
  ]
}