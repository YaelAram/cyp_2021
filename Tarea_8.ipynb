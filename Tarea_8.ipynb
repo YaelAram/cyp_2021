{
  "nbformat": 4,
  "nbformat_minor": 0,
  "metadata": {
    "colab": {
      "name": "Tarea_8.ipynb",
      "provenance": [],
      "authorship_tag": "ABX9TyPZ/MEMQScvrEyLqzEVBjvN",
      "include_colab_link": true
    },
    "kernelspec": {
      "name": "python3",
      "display_name": "Python 3"
    }
  },
  "cells": [
    {
      "cell_type": "markdown",
      "metadata": {
        "id": "view-in-github",
        "colab_type": "text"
      },
      "source": [
        "<a href=\"https://colab.research.google.com/github/YaelAram/cyp_2021/blob/master/Tarea_8.ipynb\" target=\"_parent\"><img src=\"https://colab.research.google.com/assets/colab-badge.svg\" alt=\"Open In Colab\"/></a>"
      ]
    },
    {
      "cell_type": "code",
      "metadata": {
        "colab": {
          "base_uri": "https://localhost:8080/"
        },
        "id": "GUj3JzjGJIbB",
        "outputId": "1978054e-8f45-4eaf-9749-fa006a777161"
      },
      "source": [
        "nom = \"\\u03E2\"\r\n",
        "marc = \"\\u1111\"\r\n",
        "bord = \"\\u2225\"\r\n",
        "esp = \" \"\r\n",
        "tab = \"\\t\"\r\n",
        "print(f\" {marc*30}\")\r\n",
        "print(f\"{bord} {nom + esp*3 + nom} {nom*5} {nom*5} {nom + esp*4}{tab + nom*5} {nom*5} {nom*5} {nom + esp*3 + nom} {bord}\")\r\n",
        "print(f\"{bord} {esp + nom + esp + nom + esp} {nom + esp*3 + nom} {nom + esp*4} {nom + esp*4}{tab + nom + esp*3 + nom} {nom + esp*3 + nom} {nom + esp*3 + nom} {nom*2 + esp + nom*2} {bord}\")\r\n",
        "print(f\"{bord} {esp*2 + nom + esp*2} {nom*5} {nom*3 + esp*2} {nom + esp*4}{tab + nom*5} {nom*5} {nom*5} {nom + esp + nom + esp +nom} {bord}\")\r\n",
        "print(f\"{bord} {esp*2 + nom + esp*2} {nom + esp*3 + nom} {nom + esp*4} {nom + esp*4}{tab + nom + esp*3 + nom} {nom + esp*2 + nom + esp} {nom + esp*3 + nom} {nom + esp*3 + nom} {bord}\")\r\n",
        "print(f\"{bord} {esp*2 + nom + esp*2} {nom + esp*3 + nom} {nom*5} {nom*5}{tab + nom + esp*3 + nom} {nom + esp*3 + nom} {nom + esp*3 + nom} {nom + esp*3 + nom} {bord}\")\r\n",
        "print(f\" {marc*30}\")\r\n"
      ],
      "execution_count": 103,
      "outputs": [
        {
          "output_type": "stream",
          "text": [
            " ᄑᄑᄑᄑᄑᄑᄑᄑᄑᄑᄑᄑᄑᄑᄑᄑᄑᄑᄑᄑᄑᄑᄑᄑᄑᄑᄑᄑᄑᄑ\n",
            "∥ Ϣ   Ϣ ϢϢϢϢϢ ϢϢϢϢϢ Ϣ    \tϢϢϢϢϢ ϢϢϢϢϢ ϢϢϢϢϢ Ϣ   Ϣ ∥\n",
            "∥  Ϣ Ϣ  Ϣ   Ϣ Ϣ     Ϣ    \tϢ   Ϣ Ϣ   Ϣ Ϣ   Ϣ ϢϢ ϢϢ ∥\n",
            "∥   Ϣ   ϢϢϢϢϢ ϢϢϢ   Ϣ    \tϢϢϢϢϢ ϢϢϢϢϢ ϢϢϢϢϢ Ϣ Ϣ Ϣ ∥\n",
            "∥   Ϣ   Ϣ   Ϣ Ϣ     Ϣ    \tϢ   Ϣ Ϣ  Ϣ  Ϣ   Ϣ Ϣ   Ϣ ∥\n",
            "∥   Ϣ   Ϣ   Ϣ ϢϢϢϢϢ ϢϢϢϢϢ\tϢ   Ϣ Ϣ   Ϣ Ϣ   Ϣ Ϣ   Ϣ ∥\n",
            " ᄑᄑᄑᄑᄑᄑᄑᄑᄑᄑᄑᄑᄑᄑᄑᄑᄑᄑᄑᄑᄑᄑᄑᄑᄑᄑᄑᄑᄑᄑ\n"
          ],
          "name": "stdout"
        }
      ]
    },
    {
      "cell_type": "code",
      "metadata": {
        "colab": {
          "base_uri": "https://localhost:8080/"
        },
        "id": "JX1Y66bok3kA",
        "outputId": "01f62658-8c57-4e9d-e1fc-06b8047e42c2"
      },
      "source": [
        "nom = \"\\u03E2\"\r\n",
        "marc = \"\\u1111\"\r\n",
        "bord = \"\\u2225\"\r\n",
        "esp = \" \"\r\n",
        "tab = \"\\t\"\r\n",
        "# Marco Superior\r\n",
        "print(f\" {marc*30}\")\r\n",
        "# Primera Linea (Primer, Segundo Nombre y Borde)\r\n",
        "print(f\"{bord} {nom + esp*3 + nom} {nom*5} {nom*5} {nom + esp*4}\", end=\"\")\r\n",
        "print(f\"{tab + nom*5} {nom*5} {nom*5} {nom + esp*3 + nom} {bord}\")\r\n",
        "# Segunda Linea (Primer, Segundo Nombre y Borde)\r\n",
        "print(f\"{bord} {esp + nom + esp + nom + esp} {nom + esp*3 + nom} {nom + esp*4} {nom + esp*4}\", end=\"\")\r\n",
        "print(f\"{tab + nom + esp*3 + nom} {nom + esp*3 + nom} {nom + esp*3 + nom} {nom*2 + esp + nom*2} {bord}\")\r\n",
        "# Tercera Linea (Primer, Segundo Nombre y Borde)\r\n",
        "print(f\"{bord} {esp*2 + nom + esp*2} {nom*5} {nom*3 + esp*2} {nom + esp*4}\", end=\"\")\r\n",
        "print(f\"{tab + nom*5} {nom*5} {nom*5} {nom + esp + nom + esp +nom} {bord}\")\r\n",
        "# Cuarta Linea (Primer, Segundo Nombre y Borde)\r\n",
        "print(f\"{bord} {esp*2 + nom + esp*2} {nom + esp*3 + nom} {nom + esp*4} {nom + esp*4}\", end=\"\")\r\n",
        "print(f\"{tab + nom + esp*3 + nom} {nom + esp*2 + nom + esp} {nom + esp*3 + nom} {nom + esp*3 + nom} {bord}\")\r\n",
        "# Quinta Linea (Primer, Segundo Nombre y Borde)\r\n",
        "print(f\"{bord} {esp*2 + nom + esp*2} {nom + esp*3 + nom} {nom*5} {nom*5}\", end=\"\")\r\n",
        "print(f\"{tab + nom + esp*3 + nom} {nom + esp*3 + nom} {nom + esp*3 + nom} {nom + esp*3 + nom} {bord}\")\r\n",
        "# Marco Inferior\r\n",
        "print(f\" {marc*30}\")\r\n"
      ],
      "execution_count": 101,
      "outputs": [
        {
          "output_type": "stream",
          "text": [
            " ᄑᄑᄑᄑᄑᄑᄑᄑᄑᄑᄑᄑᄑᄑᄑᄑᄑᄑᄑᄑᄑᄑᄑᄑᄑᄑᄑᄑᄑᄑ\n",
            "∥ Ϣ   Ϣ ϢϢϢϢϢ ϢϢϢϢϢ Ϣ    \tϢϢϢϢϢ ϢϢϢϢϢ ϢϢϢϢϢ Ϣ   Ϣ ∥\n",
            "∥  Ϣ Ϣ  Ϣ   Ϣ Ϣ     Ϣ    \tϢ   Ϣ Ϣ   Ϣ Ϣ   Ϣ ϢϢ ϢϢ ∥\n",
            "∥   Ϣ   ϢϢϢϢϢ ϢϢϢ   Ϣ    \tϢϢϢϢϢ ϢϢϢϢϢ ϢϢϢϢϢ Ϣ Ϣ Ϣ ∥\n",
            "∥   Ϣ   Ϣ   Ϣ Ϣ     Ϣ    \tϢ   Ϣ Ϣ  Ϣ  Ϣ   Ϣ Ϣ   Ϣ ∥\n",
            "∥   Ϣ   Ϣ   Ϣ ϢϢϢϢϢ ϢϢϢϢϢ\tϢ   Ϣ Ϣ   Ϣ Ϣ   Ϣ Ϣ   Ϣ ∥\n",
            " ᄑᄑᄑᄑᄑᄑᄑᄑᄑᄑᄑᄑᄑᄑᄑᄑᄑᄑᄑᄑᄑᄑᄑᄑᄑᄑᄑᄑᄑᄑ\n"
          ],
          "name": "stdout"
        }
      ]
    }
  ]
}