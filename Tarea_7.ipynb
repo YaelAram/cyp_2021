{
  "nbformat": 4,
  "nbformat_minor": 0,
  "metadata": {
    "colab": {
      "name": "Tarea_7.ipynb",
      "provenance": [],
      "authorship_tag": "ABX9TyMzKEi5fI6ij6Csm5mr1Q0Z",
      "include_colab_link": true
    },
    "kernelspec": {
      "name": "python3",
      "display_name": "Python 3"
    }
  },
  "cells": [
    {
      "cell_type": "markdown",
      "metadata": {
        "id": "view-in-github",
        "colab_type": "text"
      },
      "source": [
        "<a href=\"https://colab.research.google.com/github/YaelAram/cyp_2021/blob/master/Tarea_7.ipynb\" target=\"_parent\"><img src=\"https://colab.research.google.com/assets/colab-badge.svg\" alt=\"Open In Colab\"/></a>"
      ]
    },
    {
      "cell_type": "code",
      "metadata": {
        "colab": {
          "base_uri": "https://localhost:8080/"
        },
        "id": "kbDRM2WSdqPA",
        "outputId": "d816aa70-0bb1-4ff3-b72a-001474bc1f14"
      },
      "source": [
        "#Problema 4.11\r\n",
        "\r\n",
        "def iniciar_region(lista=[], continente=[], region=\"\"):\r\n",
        "    for i in range(30):\r\n",
        "        pais = input(f\"Pais {region.capitalize()} America: \")\r\n",
        "        if pais == \"\":\r\n",
        "            break\r\n",
        "        pais = str(pais).title()\r\n",
        "        # lista[i] = pais\r\n",
        "        lista.append(pais)\r\n",
        "        # continente[len(continente)] = pais\r\n",
        "        continente.append(pais)\r\n",
        "\r\n",
        "def mostrar_region(lista=[], region=\"\"):\r\n",
        "    print(f\"Mostrando Region {region.capitalize()}\")\r\n",
        "    print(lista)\r\n",
        "\r\n",
        "norte = []\r\n",
        "centro = []\r\n",
        "sur =[]\r\n",
        "america =[]\r\n",
        "iniciar_region(norte, america, \"Norte\")\r\n",
        "iniciar_region(centro, america, \"Centro\")\r\n",
        "iniciar_region(sur, america, \"Sur\")\r\n",
        "norte.sort()\r\n",
        "centro.sort()\r\n",
        "sur.sort()\r\n",
        "america.sort()\r\n",
        "mostrar_region(norte, \"Norte\")\r\n",
        "mostrar_region(centro, \"Centro\")\r\n",
        "mostrar_region(sur, \"Sur\")\r\n",
        "mostrar_region(america, \"America\")\r\n"
      ],
      "execution_count": 5,
      "outputs": [
        {
          "output_type": "stream",
          "text": [
            "Pais Norte America: canada\n",
            "Pais Norte America: Estados Unidos\n",
            "Pais Norte America: Mexico\n",
            "Pais Norte America: \n",
            "Pais Centro America: Guatemala\n",
            "Pais Centro America: Belice\n",
            "Pais Centro America: Honduras\n",
            "Pais Centro America: Costa Rica\n",
            "Pais Centro America: panama\n",
            "Pais Centro America: \n",
            "Pais Sur America: Brasil\n",
            "Pais Sur America: Venezuela\n",
            "Pais Sur America: peru\n",
            "Pais Sur America: Ecuador\n",
            "Pais Sur America: Argentina\n",
            "Pais Sur America: chile\n",
            "Pais Sur America: \n",
            "Mostrando Region Norte\n",
            "['Canada', 'Estados unidos', 'Mexico']\n",
            "Mostrando Region Centro\n",
            "['Belice', 'Costa rica', 'Guatemala', 'Honduras', 'Panama']\n",
            "Mostrando Region Sur\n",
            "['Argentina', 'Brasil', 'Chile', 'Ecuador', 'Peru', 'Venezuela']\n",
            "Mostrando Region America\n",
            "['Argentina', 'Belice', 'Brasil', 'Canada', 'Chile', 'Costa rica', 'Ecuador', 'Estados unidos', 'Guatemala', 'Honduras', 'Mexico', 'Panama', 'Peru', 'Venezuela']\n"
          ],
          "name": "stdout"
        }
      ]
    },
    {
      "cell_type": "code",
      "metadata": {
        "colab": {
          "base_uri": "https://localhost:8080/"
        },
        "id": "NjryEa8kjR_r",
        "outputId": "cd74ae42-04db-4f75-a534-d5d434bfce76"
      },
      "source": [
        "#Problema 4.11\r\n",
        "\r\n",
        "def iniciar_region(lista=[], continente=[], region=\"\"):\r\n",
        "    for i in range(30):\r\n",
        "        pais = input(f\"Pais {region.capitalize()} America: \")\r\n",
        "        if pais == \"\":\r\n",
        "            break\r\n",
        "        pais = str(pais).title()\r\n",
        "        # lista[i] = pais\r\n",
        "        lista.append(pais)\r\n",
        "        # continente[len(continente)] = pais\r\n",
        "        continente.append(pais)\r\n",
        "\r\n",
        "def ordenar_region(lista=[]):\r\n",
        "    for i in range(len(lista)):\r\n",
        "        for j in range(len(lista) - 1):\r\n",
        "            if ord(lista[j][0]) > ord(lista[j + 1][0]):\r\n",
        "                aux = lista[j + 1]\r\n",
        "                lista[j + 1] = lista[j]\r\n",
        "                lista[j] = aux\r\n",
        "            if ord(lista[j][0]) == ord(lista[j + 1][0]):\r\n",
        "                if ord(lista[j][1]) > ord(lista[j + 1][1]):\r\n",
        "                    aux = lista[j + 1]\r\n",
        "                    lista[j + 1] = lista[j]\r\n",
        "                    lista[j] = aux\r\n",
        "\r\n",
        "\r\n",
        "def mostrar_region(lista=[], region=\"\"):\r\n",
        "    print(f\"Mostrando Region {region.capitalize()}\")\r\n",
        "    print(lista)\r\n",
        "\r\n",
        "norte = []\r\n",
        "centro = []\r\n",
        "sur =[]\r\n",
        "america =[]\r\n",
        "iniciar_region(norte, america, \"Norte\")\r\n",
        "iniciar_region(centro, america, \"Centro\")\r\n",
        "iniciar_region(sur, america, \"Sur\")\r\n",
        "ordenar_region(norte)\r\n",
        "ordenar_region(centro)\r\n",
        "ordenar_region(sur)\r\n",
        "ordenar_region(america)\r\n",
        "mostrar_region(norte, \"Norte\")\r\n",
        "mostrar_region(centro, \"Centro\")\r\n",
        "mostrar_region(sur, \"Sur\")\r\n",
        "mostrar_region(america, \"America\")\r\n"
      ],
      "execution_count": 13,
      "outputs": [
        {
          "output_type": "stream",
          "text": [
            "Pais Norte America: mexico\n",
            "Pais Norte America: canada\n",
            "Pais Norte America: estados unidos\n",
            "Pais Norte America: \n",
            "Pais Centro America: guatemala\n",
            "Pais Centro America: belice\n",
            "Pais Centro America: panama\n",
            "Pais Centro America: \n",
            "Pais Sur America: brasil\n",
            "Pais Sur America: chile\n",
            "Pais Sur America: argentina\n",
            "Pais Sur America: \n",
            "Mostrando Region Norte\n",
            "['Canada', 'Estados Unidos', 'Mexico']\n",
            "Mostrando Region Centro\n",
            "['Belice', 'Guatemala', 'Panama']\n",
            "Mostrando Region Sur\n",
            "['Argentina', 'Brasil', 'Chile']\n",
            "Mostrando Region America\n",
            "['Argentina', 'Belice', 'Brasil', 'Canada', 'Chile', 'Estados Unidos', 'Guatemala', 'Mexico', 'Panama']\n"
          ],
          "name": "stdout"
        }
      ]
    }
  ]
}