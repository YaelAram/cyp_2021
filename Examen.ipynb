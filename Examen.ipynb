{
  "nbformat": 4,
  "nbformat_minor": 0,
  "metadata": {
    "colab": {
      "name": "Examen.ipynb",
      "provenance": [],
      "authorship_tag": "ABX9TyPXoKFrHYJPgwwGmHB1aosk",
      "include_colab_link": true
    },
    "kernelspec": {
      "name": "python3",
      "display_name": "Python 3"
    }
  },
  "cells": [
    {
      "cell_type": "markdown",
      "metadata": {
        "id": "view-in-github",
        "colab_type": "text"
      },
      "source": [
        "<a href=\"https://colab.research.google.com/github/YaelAram/cyp_2021/blob/master/Examen.ipynb\" target=\"_parent\"><img src=\"https://colab.research.google.com/assets/colab-badge.svg\" alt=\"Open In Colab\"/></a>"
      ]
    },
    {
      "cell_type": "code",
      "metadata": {
        "colab": {
          "base_uri": "https://localhost:8080/"
        },
        "id": "Y2yH1Uv952Wo",
        "outputId": "d512725b-f530-4759-b8a2-705922ff0103"
      },
      "source": [
        "# Ejercicio 1\r\n",
        "calificacion = float(input(\"Calificacion: \"))\r\n",
        "if 0 <= calificacion <= 10:\r\n",
        "    if calificacion >= 8.0:\r\n",
        "        print(\"Alumno Aprobado\")\r\n",
        "    else:\r\n",
        "        print(\"Alumno Reprobado\")\r\n",
        "else:\r\n",
        "    print(\"Ingresa una calificacion correcta, rango de 0 a 10\")\r\n"
      ],
      "execution_count": 19,
      "outputs": [
        {
          "output_type": "stream",
          "text": [
            "Calificacion: 8\n",
            "Alumno Aprobado\n"
          ],
          "name": "stdout"
        }
      ]
    },
    {
      "cell_type": "code",
      "metadata": {
        "colab": {
          "base_uri": "https://localhost:8080/"
        },
        "id": "2HKyHERRELw1",
        "outputId": "fcc9bb26-9dd6-4d99-d9f0-4708df530693"
      },
      "source": [
        "# Ejercicio 2\r\n",
        "# Una lista es una coleccion de datos en el que se puede almacenar cualquier cantidad de datos y cualquier tipo de dato\r\n",
        "# Ademas de tener la caracteristica de ser mutable\r\n",
        "\r\n",
        "lista = [1, 1.2, True, \"Hola Mundo\", [1, 2, 3], (3.1415), {1, 2, 3}, {\"Nombre\" : \"Yael\", \"Edad\" : 18}]\r\n",
        "for index, i in enumerate(lista):\r\n",
        "    print(f\"Elemento de la lista #{index}: {i}\")\r\n"
      ],
      "execution_count": 20,
      "outputs": [
        {
          "output_type": "stream",
          "text": [
            "Elemento de la lista #0: 1\n",
            "Elemento de la lista #1: 1.2\n",
            "Elemento de la lista #2: True\n",
            "Elemento de la lista #3: Hola Mundo\n",
            "Elemento de la lista #4: [1, 2, 3]\n",
            "Elemento de la lista #5: 3.1415\n",
            "Elemento de la lista #6: {1, 2, 3}\n",
            "Elemento de la lista #7: {'Nombre': 'Yael', 'Edad': 18}\n"
          ],
          "name": "stdout"
        }
      ]
    },
    {
      "cell_type": "code",
      "metadata": {
        "colab": {
          "base_uri": "https://localhost:8080/"
        },
        "id": "R5zg6J0gHzJf",
        "outputId": "69e86db5-5175-40c5-8609-32c381ebeb6f"
      },
      "source": [
        "# Ejercicio 3\r\n",
        "limite = int(input(\"Limite: \"))\r\n",
        "tabla_5 = [(numero*5) for numero in range(limite + 1)]\r\n",
        "for index, i in enumerate(tabla_5):\r\n",
        "    print(f\"5x{index} = {i}\")\r\n",
        "    "
      ],
      "execution_count": 22,
      "outputs": [
        {
          "output_type": "stream",
          "text": [
            "Limite: 10\n",
            "5x0 = 0\n",
            "5x1 = 5\n",
            "5x2 = 10\n",
            "5x3 = 15\n",
            "5x4 = 20\n",
            "5x5 = 25\n",
            "5x6 = 30\n",
            "5x7 = 35\n",
            "5x8 = 40\n",
            "5x9 = 45\n",
            "5x10 = 50\n"
          ],
          "name": "stdout"
        }
      ]
    },
    {
      "cell_type": "code",
      "metadata": {
        "colab": {
          "base_uri": "https://localhost:8080/"
        },
        "id": "b1P9IJf6I9wN",
        "outputId": "194b7585-8164-485b-ccc4-be183cbc7329"
      },
      "source": [
        "# Ejercicio 4\r\n",
        "primer_nombre = input(\"Primer Nombre: \")\r\n",
        "segundo_nombre = input(\"Segundo Nombre: \")\r\n",
        "\r\n",
        "if primer_nombre[0] == segundo_nombre[0] or primer_nombre[-1] == segundo_nombre[-1]:\r\n",
        "    print(\"Coinciden\")\r\n",
        "else:\r\n",
        "    print(\"No coinciden\")\r\n"
      ],
      "execution_count": 24,
      "outputs": [
        {
          "output_type": "stream",
          "text": [
            "Primer Nombre: Alberto\n",
            "Segundo Nombre: Ana\n",
            "Coinciden\n"
          ],
          "name": "stdout"
        }
      ]
    },
    {
      "cell_type": "code",
      "metadata": {
        "colab": {
          "base_uri": "https://localhost:8080/"
        },
        "id": "Dhiu6svLKIXX",
        "outputId": "c23c7de5-b75c-424b-a7c5-6faff5b45ffa"
      },
      "source": [
        "# Ejercicio 5\r\n",
        "for i in range(100, 0, -1):\r\n",
        "    if i%25 == 0:\r\n",
        "        print(f\"{i} \")\r\n",
        "    else:\r\n",
        "        print(f\"{i} \", end='')\r\n"
      ],
      "execution_count": 29,
      "outputs": [
        {
          "output_type": "stream",
          "text": [
            "100 \n",
            "99 98 97 96 95 94 93 92 91 90 89 88 87 86 85 84 83 82 81 80 79 78 77 76 75 \n",
            "74 73 72 71 70 69 68 67 66 65 64 63 62 61 60 59 58 57 56 55 54 53 52 51 50 \n",
            "49 48 47 46 45 44 43 42 41 40 39 38 37 36 35 34 33 32 31 30 29 28 27 26 25 \n",
            "24 23 22 21 20 19 18 17 16 15 14 13 12 11 10 9 8 7 6 5 4 3 2 1 "
          ],
          "name": "stdout"
        }
      ]
    },
    {
      "cell_type": "code",
      "metadata": {
        "colab": {
          "base_uri": "https://localhost:8080/"
        },
        "id": "wlReZer4L7nv",
        "outputId": "be13d314-c1ce-43b8-f147-1f7bacff334b"
      },
      "source": [
        "# Ejercicio 6\r\n",
        "numero_1 = float(input(\"Primer Numero: \"))\r\n",
        "numero_2 = float(input(\"Segundo Numero: \"))\r\n",
        "\r\n",
        "if numero_1 == numero_2:\r\n",
        "    print(\"Ambos numeros son iguales\")\r\n",
        "elif numero_1 > numero_2:\r\n",
        "    print(\"El primer numero es mayor\")\r\n",
        "else:\r\n",
        "    print(\"El segundo numero es mayor\")\r\n"
      ],
      "execution_count": 30,
      "outputs": [
        {
          "output_type": "stream",
          "text": [
            "Primer Numero: 2.3\n",
            "Segundo Numero: 1.2\n",
            "El primer numero es mayor\n"
          ],
          "name": "stdout"
        }
      ]
    },
    {
      "cell_type": "code",
      "metadata": {
        "colab": {
          "base_uri": "https://localhost:8080/"
        },
        "id": "zQrASRl-MuhS",
        "outputId": "9eb5489b-af44-4421-9e12-ef5059b555ab"
      },
      "source": [
        "# Ejercicio 7\r\n",
        "print(\"Candidato A \\nCandidato B \\nCandidato C\")\r\n",
        "voto = input(\"Usted data su voto al candidato: \")\r\n",
        "voto = voto.upper()\r\n",
        "if voto == 'A':\r\n",
        "    print(\"Usted ha votado por el partido rojo\")\r\n",
        "elif voto == 'B':\r\n",
        "    print(\"Usted ha votado por el partido verde\")\r\n",
        "elif voto == 'C':\r\n",
        "    print(\"Usted ha votado por el partido azul\")\r\n",
        "else:\r\n",
        "    print(\"Opcion no valida\")\r\n"
      ],
      "execution_count": 35,
      "outputs": [
        {
          "output_type": "stream",
          "text": [
            "Candidato A \n",
            "Candidato B \n",
            "Candidato C\n",
            "Usted data su voto al candidato: c\n",
            "Usted ha votado por el partido azul\n"
          ],
          "name": "stdout"
        }
      ]
    },
    {
      "cell_type": "code",
      "metadata": {
        "colab": {
          "base_uri": "https://localhost:8080/"
        },
        "id": "ffttN-UZOMCc",
        "outputId": "b250e7ac-c924-48a6-cb2b-e4dcd6e70485"
      },
      "source": [
        "# Ejercicio 8\r\n",
        "monto = float(input(\"Monto total:\"))\r\n",
        "print(f\"El monto a final de mes sera {(monto + (monto*0.03)):.2f}\")\r\n"
      ],
      "execution_count": 36,
      "outputs": [
        {
          "output_type": "stream",
          "text": [
            "Monto total:100\n",
            "El monto a final de mes sera 103.00\n"
          ],
          "name": "stdout"
        }
      ]
    },
    {
      "cell_type": "code",
      "metadata": {
        "colab": {
          "base_uri": "https://localhost:8080/"
        },
        "id": "Fy9Cq-WNPOC6",
        "outputId": "d1ed3cc6-020d-40a3-a857-48794c34ff72"
      },
      "source": [
        "# Ejercicio 9\r\n",
        "marca, modelo = [\"Ford\", \"Nissan\", \"Tesla\", \"Ferrari\", \"Audi\"], [\"Focus\", \"Leaf\", \"Model S\", \"F40\", \"A3\"]\r\n",
        "color, matricula = [\"Verde\", \"Rojo\", \"Azul\", \"Amarillo\", \"Negro\"], [\"A123\", \"A12AS\", \"AS123\", \"FG5W\", \"ASD3234\"]\r\n",
        "precio = [12332, 123123, 123123, 12312, 345345, 67567]\r\n",
        "auto = {\"Marca\" : marca, \"Modelo\" : modelo, \"Color\" : color, \"Matricula\" :matricula, \"Precio\" : precio}\r\n",
        "aux = 0\r\n",
        "for i in range(5):\r\n",
        "    print(f\"Auto #{i + 1}\")\r\n",
        "    for j in auto:\r\n",
        "        print(f\"{auto[j][aux]}  \", end='')\r\n",
        "    print(\"\\n\")\r\n"
      ],
      "execution_count": 41,
      "outputs": [
        {
          "output_type": "stream",
          "text": [
            "Auto #1\n",
            "Ford  Focus  Verde  A123  12332  \n",
            "\n",
            "Auto #2\n",
            "Ford  Focus  Verde  A123  12332  \n",
            "\n",
            "Auto #3\n",
            "Ford  Focus  Verde  A123  12332  \n",
            "\n",
            "Auto #4\n",
            "Ford  Focus  Verde  A123  12332  \n",
            "\n",
            "Auto #5\n",
            "Ford  Focus  Verde  A123  12332  \n",
            "\n"
          ],
          "name": "stdout"
        }
      ]
    },
    {
      "cell_type": "code",
      "metadata": {
        "colab": {
          "base_uri": "https://localhost:8080/"
        },
        "id": "q-bX9Xa0TOY5",
        "outputId": "bee2d316-6586-4c57-d17f-7cf91e8d540c"
      },
      "source": [
        "# Ejercicio 10\r\n",
        "letra = input(\"Ingresa una letra: \")\r\n",
        "if len(letra) > 1:\r\n",
        "    print(\"Solo ingresa una letra\")\r\n",
        "else:\r\n",
        "    letra = letra.upper()\r\n",
        "    if letra == 'A' or letra == 'E' or letra == 'I' or letra == 'O' or letra == 'U':\r\n",
        "        print(\"Es una vocal\")\r\n",
        "    else:\r\n",
        "        print(\"No es una vocal\")\r\n"
      ],
      "execution_count": 44,
      "outputs": [
        {
          "output_type": "stream",
          "text": [
            "Ingresa una letra: o\n",
            "Es una vocal\n"
          ],
          "name": "stdout"
        }
      ]
    }
  ]
}