{
  "nbformat": 4,
  "nbformat_minor": 0,
  "metadata": {
    "colab": {
      "name": "CyP_01_12_2020.ipynb",
      "provenance": [],
      "authorship_tag": "ABX9TyPbcCrPEga7w3bffdKynkGz",
      "include_colab_link": true
    },
    "kernelspec": {
      "name": "python3",
      "display_name": "Python 3"
    }
  },
  "cells": [
    {
      "cell_type": "markdown",
      "metadata": {
        "id": "view-in-github",
        "colab_type": "text"
      },
      "source": [
        "<a href=\"https://colab.research.google.com/github/YaelAram/cyp_2021/blob/master/CyP_01_12_2020.ipynb\" target=\"_parent\"><img src=\"https://colab.research.google.com/assets/colab-badge.svg\" alt=\"Open In Colab\"/></a>"
      ]
    },
    {
      "cell_type": "code",
      "metadata": {
        "colab": {
          "base_uri": "https://localhost:8080/"
        },
        "id": "X60MRBhNShm2",
        "outputId": "9af4e46e-9145-4bcb-faca-c17819913b1c"
      },
      "source": [
        "primerNumero = int(input(\"Primer numero: \"))\n",
        "segundoNumero = int(input(\"Segundo numero: \"))\n",
        "tercerNumero = int(input(\"Tercer numero: \"))\n",
        "\n",
        "if primerNumero == segundoNumero and primerNumero == tercerNumero :\n",
        "    print(\"Todos los numeros son iguales\")\n",
        "elif primerNumero > segundoNumero and primerNumero > tercerNumero:\n",
        "    print(f\"El numero {primerNumero} es el mayor.\")\n",
        "elif segundoNumero > tercerNumero:\n",
        "    print(f\"El numero {segundoNumero} es el mayor.\")\n",
        "else :\n",
        "    print(f\"El numero {tercerNumero} es el mayor.\")"
      ],
      "execution_count": 21,
      "outputs": [
        {
          "output_type": "stream",
          "text": [
            "Primer numero: 3\n",
            "Segundo numero: 4\n",
            "Tercer numero: 5\n",
            "El numero 5 es el mayor.\n"
          ],
          "name": "stdout"
        }
      ]
    },
    {
      "cell_type": "code",
      "metadata": {
        "colab": {
          "base_uri": "https://localhost:8080/"
        },
        "id": "Mc-OMXCbVj_W",
        "outputId": "739975c4-9b66-42f4-89af-8f0ed59a435f"
      },
      "source": [
        "nombre = input(\"Nombre: \")\n",
        "horas = int(input(\"Horas de trabajo: \"))\n",
        "salario = float(input(\"Salario por hora: \"))\n",
        "if horas <= 40 :\n",
        "    print(f\"{str.capitalize(nombre)} el pago por {horas} horas sera de ${salario * horas}\")\n",
        "else :\n",
        "    print(f\"{str.capitalize(nombre)} el pago por {horas} horas sera de ${(salario * 40) + ((horas - 40) * (salario * 2))}\")"
      ],
      "execution_count": 22,
      "outputs": [
        {
          "output_type": "stream",
          "text": [
            "Nombre: yael\n",
            "Horas de trabajo: 41\n",
            "Salario por hora: 1\n",
            "Yael el pago por 41 horas sera de $42.0\n"
          ],
          "name": "stdout"
        }
      ]
    },
    {
      "cell_type": "code",
      "metadata": {
        "colab": {
          "base_uri": "https://localhost:8080/"
        },
        "id": "ztI3hw1fZnzV",
        "outputId": "5a77525f-d355-4ce7-80a8-b13ec035ca81"
      },
      "source": [
        "#Ejemplo 3\n",
        "#Calcular el salario semanal de x trabajador\n",
        "#El salario semanal se calcula en base a las horas semanales trabajadas\n",
        "#El pago por hora es variable (se pide por teclado)\n",
        "#Si las horas trabajadas superan las 40 horas, el pago por hora extra es:\n",
        "#Doble en el rango de 41horas a 50horas\n",
        "#Triple en el rango de 51horas a 60 horas\n",
        "#Incentivo de $2000 si rebasa las 60 horas.\n",
        "\n",
        "nombre = input(\"Nombre: \")\n",
        "horas = int(input(\"Horas de trabajo: \"))\n",
        "salario = float(input(\"Salario por hora: \"))\n",
        "if horas <= 40 and horas :\n",
        "    print(f\"{str.capitalize(nombre)} el pago por {horas} horas sera de ${salario * horas}\")\n",
        "elif horas > 40 and horas <= 50 :\n",
        "    print(f\"{str.capitalize(nombre)} el pago por {horas} horas sera de ${(salario * 40) + ((horas - 40) * (salario * 2))}\")\n",
        "elif horas > 50  and horas <= 60 :\n",
        "    print(f\"{str.capitalize(nombre)} el pago por {horas} horas sera de ${(salario * 40) + ((horas - 40) * (salario * 2)) + ((horas - 40) * (salario * 3))}\")\n",
        "else :\n",
        "    print(f\"{str.capitalize(nombre)} el pago por {horas} horas sera de ${(salario * horas) + ((horas - 40) * (salario * 2)) + ((horas - 40) * (salario * 3)) + 2000}\")\n"
      ],
      "execution_count": 24,
      "outputs": [
        {
          "output_type": "stream",
          "text": [
            "Nombre: yael\n",
            "Horas de trabajo: 65\n",
            "Salario por hora: 10\n",
            "Yael el pago por 65 horas sera de $3900.0\n"
          ],
          "name": "stdout"
        }
      ]
    },
    {
      "cell_type": "code",
      "metadata": {
        "colab": {
          "base_uri": "https://localhost:8080/"
        },
        "id": "C2BAW8XQn4dI",
        "outputId": "7318ebc3-3fa0-4e76-922d-2220c7dd1b59"
      },
      "source": [
        "estaciones = [\"Primavera\", \"Otoño\", \"Verano\", \"Invierno\"]\n",
        "for i in estaciones :\n",
        "    print(i)\n"
      ],
      "execution_count": 28,
      "outputs": [
        {
          "output_type": "stream",
          "text": [
            "Primavera\n",
            "Otoño\n",
            "Verano\n",
            "Invierno\n"
          ],
          "name": "stdout"
        }
      ]
    },
    {
      "cell_type": "code",
      "metadata": {
        "colab": {
          "base_uri": "https://localhost:8080/"
        },
        "id": "ojcrbbNerVLu",
        "outputId": "ed2acf21-18e1-4b5f-fd83-5b26f81ec1ac"
      },
      "source": [
        "numeros = [int(input(\"Primer numero: \")), int(input(\"Segundo numero: \")), int(input(\"Tercer numero: \")), int(input(\"Cuarto numero: \"))]\n",
        "\n",
        "opcion = input(print(\"¿Oden decendente? (S/N)\"))\n",
        "\n",
        "for i in range(4) :\n",
        "    for i, index in enumerate(range(3)) :\n",
        "        if numeros[index] > numeros[index + 1] :\n",
        "            aux = numeros[index + 1]\n",
        "            numeros[index + 1] = numeros[index]\n",
        "            numeros[index] = aux\n",
        "if str.capitalize(opcion) == \"S\" :\n",
        "    for i in reversed(numeros) :\n",
        "        print(i)\n",
        "elif str.capitalize(opcion) == \"N\" :\n",
        "    for i in reversed(numeros) :\n",
        "        print(i)\n",
        "else :\n",
        "    print(\"Opcion no valida.\")\n"
      ],
      "execution_count": 34,
      "outputs": [
        {
          "output_type": "stream",
          "text": [
            "Primer numero: 23\n",
            "Segundo numero: 3\n",
            "Tercer numero: 7\n",
            "Cuarto numero: 20\n",
            "¿Oden decendente? (S/N)\n",
            "n\n",
            "23\n",
            "20\n",
            "7\n",
            "3\n"
          ],
          "name": "stdout"
        }
      ]
    }
  ]
}