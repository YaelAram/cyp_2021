{
  "nbformat": 4,
  "nbformat_minor": 0,
  "metadata": {
    "colab": {
      "name": "Tarea_4.ipynb",
      "provenance": [],
      "authorship_tag": "ABX9TyNUgqxxqc1IE0wo5Fd6Nutc",
      "include_colab_link": true
    },
    "kernelspec": {
      "name": "python3",
      "display_name": "Python 3"
    }
  },
  "cells": [
    {
      "cell_type": "markdown",
      "metadata": {
        "id": "view-in-github",
        "colab_type": "text"
      },
      "source": [
        "<a href=\"https://colab.research.google.com/github/YaelAram/cyp_2021/blob/master/Tarea_4.ipynb\" target=\"_parent\"><img src=\"https://colab.research.google.com/assets/colab-badge.svg\" alt=\"Open In Colab\"/></a>"
      ]
    },
    {
      "cell_type": "code",
      "metadata": {
        "colab": {
          "base_uri": "https://localhost:8080/"
        },
        "id": "erUnPksOLyQ9",
        "outputId": "0ffaa083-ad85-4147-e905-228de762552a"
      },
      "source": [
        "#Ejercicio 2.4 (pag. 60)\n",
        "salario = float(input(\"Salario: \"))\n",
        "if salario < 0 :\n",
        "    print(\"No puede haber salarios negativos.\")\n",
        "else :\n",
        "    if salario >= 1000 :\n",
        "        salario *= 1.12\n",
        "    else :\n",
        "        salario *= 1.15\n",
        "    print(f\"El salario total es de ${salario}\")\n"
      ],
      "execution_count": 3,
      "outputs": [
        {
          "output_type": "stream",
          "text": [
            "Salario: 930.8\n",
            "El salario total es de $1070.4199999999998\n"
          ],
          "name": "stdout"
        }
      ]
    },
    {
      "cell_type": "code",
      "metadata": {
        "colab": {
          "base_uri": "https://localhost:8080/"
        },
        "id": "3PO1Q3NsNSRv",
        "outputId": "fda6814b-489e-4731-b6b5-1b9b37041d2d"
      },
      "source": [
        "#Ejercicio 2.8 (pag. 68)\n",
        "categoria = int(input(\"Categoria: \"))\n",
        "salario = float(input(\"Salario: \"))\n",
        "\n",
        "if salario < 0 :\n",
        "    print(\"No puede haber salarios negativos.\")\n",
        "else :\n",
        "    if categoria > 0 and categoria < 5 :\n",
        "        if categoria == 1 :\n",
        "            salario *= 1.15\n",
        "        elif categoria == 2 :\n",
        "            salario *= 1.1\n",
        "        elif categoria == 3 :\n",
        "            salario *= 1.08\n",
        "        else :\n",
        "            salario *= 1.07\n",
        "        print(f\"El salario total para un empleado categoria {categoria} es ${salario}\")\n",
        "    else :\n",
        "        print(f\"No existe la categoria {categoria}.\")\n",
        "    "
      ],
      "execution_count": 10,
      "outputs": [
        {
          "output_type": "stream",
          "text": [
            "Categoria: 3\n",
            "Salario: 4100\n",
            "El salario total para un empleado categoria 3 es $4428.0\n"
          ],
          "name": "stdout"
        }
      ]
    }
  ]
}