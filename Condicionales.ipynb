{
  "nbformat": 4,
  "nbformat_minor": 0,
  "metadata": {
    "colab": {
      "name": "Condicionales.ipynb",
      "provenance": [],
      "authorship_tag": "ABX9TyNu7ttDgFEUKBHMqiA1Gcm8",
      "include_colab_link": true
    },
    "kernelspec": {
      "name": "python3",
      "display_name": "Python 3"
    }
  },
  "cells": [
    {
      "cell_type": "markdown",
      "metadata": {
        "id": "view-in-github",
        "colab_type": "text"
      },
      "source": [
        "<a href=\"https://colab.research.google.com/github/YaelAram/cyp_2021/blob/master/Condicionales.ipynb\" target=\"_parent\"><img src=\"https://colab.research.google.com/assets/colab-badge.svg\" alt=\"Open In Colab\"/></a>"
      ]
    },
    {
      "cell_type": "code",
      "metadata": {
        "id": "2sA-p0vYcgMZ",
        "outputId": "823eb040-ab16-4ee0-d116-f7f8a66d56dd",
        "colab": {
          "base_uri": "https://localhost:8080/"
        }
      },
      "source": [
        "firstNumber = float(input(\"PLease type a numer: \"))\n",
        "if firstNumber < 0 :\n",
        "    print(\"That's a negative number\")\n",
        "elif firstNumber == 0 :\n",
        "    print(\"That's a zero\")\n",
        "else :\n",
        "    print(\"That's a positive number\")"
      ],
      "execution_count": null,
      "outputs": [
        {
          "output_type": "stream",
          "text": [
            "PLease type a numer: 0.001\n",
            "That's a positive number\n"
          ],
          "name": "stdout"
        }
      ]
    }
  ]
}