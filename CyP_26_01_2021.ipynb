{
  "nbformat": 4,
  "nbformat_minor": 0,
  "metadata": {
    "colab": {
      "name": "CyP_26_01_2021.ipynb",
      "provenance": [],
      "collapsed_sections": [],
      "authorship_tag": "ABX9TyM05BwOKsKXo+HwLMih4HYh",
      "include_colab_link": true
    },
    "kernelspec": {
      "name": "python3",
      "display_name": "Python 3"
    }
  },
  "cells": [
    {
      "cell_type": "markdown",
      "metadata": {
        "id": "view-in-github",
        "colab_type": "text"
      },
      "source": [
        "<a href=\"https://colab.research.google.com/github/YaelAram/cyp_2021/blob/master/CyP_26_01_2021.ipynb\" target=\"_parent\"><img src=\"https://colab.research.google.com/assets/colab-badge.svg\" alt=\"Open In Colab\"/></a>"
      ]
    },
    {
      "cell_type": "code",
      "metadata": {
        "id": "Al-9E6cO5rl9",
        "colab": {
          "base_uri": "https://localhost:8080/"
        },
        "outputId": "f56e8054-0f28-46df-e452-105444ae92bc"
      },
      "source": [
        "lista_random = [1, 2, 3, \"ABC\", 5, \"DEF\", True, [6, 7, 8], 3.1415]\r\n",
        "lista_int = []\r\n",
        "lista_float = []\r\n",
        "lista_string = []\r\n",
        "lista_bool = []\r\n",
        "matriz = []\r\n",
        "for i in lista_random:\r\n",
        "    if type(i) == int:\r\n",
        "        lista_int.append(i)\r\n",
        "    elif type(i) == str:\r\n",
        "        lista_string.append(i)\r\n",
        "    elif type(i) == bool:\r\n",
        "        lista_bool.append(i)\r\n",
        "    elif type(i) == list:\r\n",
        "        matriz.append(i)\r\n",
        "    else:\r\n",
        "        lista_float.append(i)\r\n",
        "print(lista_int)\r\n",
        "print(lista_float)\r\n",
        "print(lista_string)\r\n",
        "print(lista_bool)\r\n",
        "print(matriz)\r\n"
      ],
      "execution_count": 3,
      "outputs": [
        {
          "output_type": "stream",
          "text": [
            "[1, 2, 3, 5]\n",
            "[3.1415]\n",
            "['ABC', 'DEF']\n",
            "[True]\n",
            "[[6, 7, 8]]\n"
          ],
          "name": "stdout"
        }
      ]
    },
    {
      "cell_type": "code",
      "metadata": {
        "colab": {
          "base_uri": "https://localhost:8080/"
        },
        "id": "dUBMzw6v3Rox",
        "outputId": "89987adc-4337-4493-f539-a7f873896cee"
      },
      "source": [
        "fruta = [\"manzana\", \"piña\", \"cereza\", \"platano\", \"melon\", \"naranja\"]\r\n",
        "nueva_fruta = [\"Mango\", \"Mandarina\"]\r\n",
        "for index, i in enumerate(fruta):\r\n",
        "    fruta[index] = i.capitalize()\r\n",
        "fruta.extend(nueva_fruta)\r\n",
        "fruta_ordenada = fruta.copy()\r\n",
        "fruta_ordenada.sort(key=lambda item: ord(item[0]))\r\n",
        "fruta_M = fruta_ordenada.copy()\r\n",
        "fruta_M = list(filter(lambda item: item.startswith('M'), fruta_M))\r\n",
        "fruta.sort()\r\n",
        "\r\n",
        "print(fruta)\r\n",
        "print(fruta_ordenada)\r\n",
        "print(fruta_M)\r\n"
      ],
      "execution_count": 22,
      "outputs": [
        {
          "output_type": "stream",
          "text": [
            "['Cereza', 'Mandarina', 'Mango', 'Manzana', 'Melon', 'Naranja', 'Piña', 'Platano']\n",
            "['Cereza', 'Manzana', 'Melon', 'Mango', 'Mandarina', 'Naranja', 'Piña', 'Platano']\n",
            "['Manzana', 'Melon', 'Mango', 'Mandarina']\n"
          ],
          "name": "stdout"
        }
      ]
    },
    {
      "cell_type": "code",
      "metadata": {
        "colab": {
          "base_uri": "https://localhost:8080/"
        },
        "id": "RoP46KHqBdk5",
        "outputId": "15112517-f07b-4f12-a156-4a126a354e7c"
      },
      "source": [
        "cosas = [\"jose\", True, 2, 3, 4, 5, \"pedro\", 1.23]\r\n",
        "aux = []\r\n",
        "for elemento in cosas:\r\n",
        "    if type(elemento) != int:\r\n",
        "        aux.append(elemento)\r\n",
        "print(cosas)\r\n",
        "print(aux)\r\n"
      ],
      "execution_count": 34,
      "outputs": [
        {
          "output_type": "stream",
          "text": [
            "['jose', True, 2, 3, 4, 5, 'pedro', 1.23]\n",
            "['jose', True, 'pedro', 1.23]\n"
          ],
          "name": "stdout"
        }
      ]
    }
  ]
}