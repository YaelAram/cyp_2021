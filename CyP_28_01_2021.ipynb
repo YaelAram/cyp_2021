{
  "nbformat": 4,
  "nbformat_minor": 0,
  "metadata": {
    "colab": {
      "name": "CyP_28_01_2021.ipynb",
      "provenance": [],
      "authorship_tag": "ABX9TyNd6rqY6G7iY32CihGSXdKl",
      "include_colab_link": true
    },
    "kernelspec": {
      "name": "python3",
      "display_name": "Python 3"
    }
  },
  "cells": [
    {
      "cell_type": "markdown",
      "metadata": {
        "id": "view-in-github",
        "colab_type": "text"
      },
      "source": [
        "<a href=\"https://colab.research.google.com/github/YaelAram/cyp_2021/blob/master/CyP_28_01_2021.ipynb\" target=\"_parent\"><img src=\"https://colab.research.google.com/assets/colab-badge.svg\" alt=\"Open In Colab\"/></a>"
      ]
    },
    {
      "cell_type": "code",
      "metadata": {
        "colab": {
          "base_uri": "https://localhost:8080/"
        },
        "id": "03aJhqRPA3uF",
        "outputId": "d21479de-f5b4-47ec-81bc-8fc8e962201f"
      },
      "source": [
        "numero = (1, 2, 3, 4, 5, 1, 2, 3, 4, 5)\r\n",
        "print(f\"Posicion numero 2 en la tupla: {numero.index(3)}\")\r\n",
        "print(f\"Numero de repeticiones: {numero.count(2)}\")\r\n"
      ],
      "execution_count": 12,
      "outputs": [
        {
          "output_type": "stream",
          "text": [
            "Posicion numero 2 en la tupla: 2\n",
            "Numero de repeticiones: 2\n"
          ],
          "name": "stdout"
        }
      ]
    },
    {
      "cell_type": "code",
      "metadata": {
        "colab": {
          "base_uri": "https://localhost:8080/"
        },
        "id": "z0EnLXLkDIKE",
        "outputId": "bbaf59bc-c404-4d49-ee2b-e2dda71d1991"
      },
      "source": [
        "fruta = (\"Sandia\", \"Melon\", \"Limon\", \"Mango\")\r\n",
        "print(fruta[1:3])\r\n",
        "print(f\"Tamaño: {len(fruta)}\")\r\n"
      ],
      "execution_count": 14,
      "outputs": [
        {
          "output_type": "stream",
          "text": [
            "('Melon', 'Limon')\n",
            "Tamaño: 4\n"
          ],
          "name": "stdout"
        }
      ]
    },
    {
      "cell_type": "code",
      "metadata": {
        "colab": {
          "base_uri": "https://localhost:8080/"
        },
        "id": "tsPACxzjFxGb",
        "outputId": "7c73507e-02f7-4579-ba12-138356e637ff"
      },
      "source": [
        "materia = [\"Algebra\", \"Computadoras y Programacion\", \"Calculo Diferencial e Integral\", \"Introduccion a la Ingenieria\", \"Geometria Analitica\"]\r\n",
        "alumno = {\"ID\" : (123456789), \"Nombre\" : \"Yael\", \"Apellido\" : \"Castillo\", \"Edad\" : 20, \"Escuela\" : \"FES Aragon\", \"Materia\" : materia}\r\n",
        "alumno[\"Genro\"] = \"Masculino\"\r\n",
        "for i in alumno:\r\n",
        "    print(f\"Clave: {i} - Valor: {alumno[i]}\")\r\n",
        "print(alumno[\"Nombre\"].upper())\r\n",
        "print(list(alumno.items())[0][1])\r\n",
        "print(alumno.keys())\r\n",
        "print(alumno.values())\r\n"
      ],
      "execution_count": 27,
      "outputs": [
        {
          "output_type": "stream",
          "text": [
            "Clave: ID - Valor: 123456789\n",
            "Clave: Nombre - Valor: Yael\n",
            "Clave: Apellido - Valor: Castillo\n",
            "Clave: Edad - Valor: 20\n",
            "Clave: Escuela - Valor: FES Aragon\n",
            "Clave: Materia - Valor: ['Algebra', 'Computadoras y Programacion', 'Calculo Diferencial e Integral', 'Introduccion a la Ingenieria', 'Geometria Analitica']\n",
            "Clave: Genro - Valor: Masculino\n",
            "YAEL\n",
            "123456789\n",
            "dict_keys(['ID', 'Nombre', 'Apellido', 'Edad', 'Escuela', 'Materia', 'Genro'])\n",
            "dict_values([123456789, 'Yael', 'Castillo', 20, 'FES Aragon', ['Algebra', 'Computadoras y Programacion', 'Calculo Diferencial e Integral', 'Introduccion a la Ingenieria', 'Geometria Analitica'], 'Masculino'])\n"
          ],
          "name": "stdout"
        }
      ]
    }
  ]
}