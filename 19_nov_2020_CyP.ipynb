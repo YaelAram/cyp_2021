{
  "nbformat": 4,
  "nbformat_minor": 0,
  "metadata": {
    "colab": {
      "name": "19_nov_2020_CyP.ipynb",
      "provenance": [],
      "authorship_tag": "ABX9TyNRwv8TbWFgbqwZ+URTfx2s",
      "include_colab_link": true
    },
    "kernelspec": {
      "name": "python3",
      "display_name": "Python 3"
    }
  },
  "cells": [
    {
      "cell_type": "markdown",
      "metadata": {
        "id": "view-in-github",
        "colab_type": "text"
      },
      "source": [
        "<a href=\"https://colab.research.google.com/github/YaelAram/cyp_2021/blob/master/19_nov_2020_CyP.ipynb\" target=\"_parent\"><img src=\"https://colab.research.google.com/assets/colab-badge.svg\" alt=\"Open In Colab\"/></a>"
      ]
    },
    {
      "cell_type": "code",
      "metadata": {
        "colab": {
          "base_uri": "https://localhost:8080/"
        },
        "id": "3lAXfBX1hJ0Q",
        "outputId": "d4cc9ee0-31cc-4492-f635-963670ff6110"
      },
      "source": [
        "i = 0\n",
        "i += 1\n",
        "print(f\"I value : {i}\")\n",
        "\n",
        "j = (5 ** 2)/3\n",
        "print(f\"J value: {j}\")\n"
      ],
      "execution_count": 15,
      "outputs": [
        {
          "output_type": "stream",
          "text": [
            "I value : 1\n",
            "J value: 8.333333333333334\n",
            "First Number: 1\n",
            "Second Number: 2\n",
            "Third Number: 3\n",
            "[1, 2, 3]\n",
            "[3, 2, 1]\n"
          ],
          "name": "stdout"
        }
      ]
    },
    {
      "cell_type": "code",
      "metadata": {
        "colab": {
          "base_uri": "https://localhost:8080/"
        },
        "id": "bpYZC_n2qW0c",
        "outputId": "26215826-5917-441c-c82e-c5445f6ab967"
      },
      "source": [
        "numberList = [int(input(\"First Number: \")), int(input(\"Second Number: \")), int(input(\"Third Number: \"))]\n",
        "print(numberList)\n",
        "print(numberList[::-1])"
      ],
      "execution_count": 21,
      "outputs": [
        {
          "output_type": "stream",
          "text": [
            "First Number: 1\n",
            "Second Number: 2\n",
            "Third Number: 3\n",
            "[1, 2, 3]\n",
            "[3, 2, 1]\n"
          ],
          "name": "stdout"
        }
      ]
    },
    {
      "cell_type": "code",
      "metadata": {
        "colab": {
          "base_uri": "https://localhost:8080/"
        },
        "id": "WR1jG2IopUH0",
        "outputId": "9279ee95-f6a9-47ab-ad5a-fbfea15029a9"
      },
      "source": [
        "a = int(input(\"a value: \"))\n",
        "b = int(input(\"b value: \"))\n",
        "print(((a + b) ** 2)/3)"
      ],
      "execution_count": 18,
      "outputs": [
        {
          "output_type": "stream",
          "text": [
            "a value: 14\n",
            "b value: -5\n",
            "27.0\n"
          ],
          "name": "stdout"
        }
      ]
    },
    {
      "cell_type": "code",
      "metadata": {
        "colab": {
          "base_uri": "https://localhost:8080/"
        },
        "id": "xj38y7OJrCuA",
        "outputId": "953263c1-2829-4e88-99bb-10a654c2b15c"
      },
      "source": [
        "numberList = [float(input(\"First Number: \")), float(input(\"Second Number: \")), float(input(\"Third Number: \")), float(input(\"Fourth Number: \")), float(input(\"Fifth Number: \"))]\n",
        "mat = input(\"Name/ID: \")\n",
        "count = 0\n",
        "for number in numberList :\n",
        "    count += number\n",
        "print(f\"{mat} - Average: {count/len(numberList)}\")"
      ],
      "execution_count": 26,
      "outputs": [
        {
          "output_type": "stream",
          "text": [
            "First Number: 1\n",
            "Second Number: 2\n",
            "Third Number: 5\n",
            "Fourth Number: 6\n",
            "Fifth Number: 2\n",
            "Name/ID: asd\n",
            "asd - Average: 3.2\n"
          ],
          "name": "stdout"
        }
      ]
    },
    {
      "cell_type": "code",
      "metadata": {
        "colab": {
          "base_uri": "https://localhost:8080/"
        },
        "id": "omlW-854xvV5",
        "outputId": "dccb2a92-c9dc-443f-a29a-bf0e699bcdc8"
      },
      "source": [
        "num = int(input(\"Number: \"))\n",
        "print(num ** 2)\n",
        "print(num ** 3)"
      ],
      "execution_count": 30,
      "outputs": [
        {
          "output_type": "stream",
          "text": [
            "Number: 7\n",
            "49\n",
            "343\n"
          ],
          "name": "stdout"
        }
      ]
    },
    {
      "cell_type": "code",
      "metadata": {
        "colab": {
          "base_uri": "https://localhost:8080/"
        },
        "id": "rFzLwa_szgB2",
        "outputId": "0d7b79c4-2cd5-4910-fb6f-9946b7467a98"
      },
      "source": [
        "base = float(input(\"Base: \"))\n",
        "height = float(input(\"Height: \"))\n",
        "print(f\"Area: {base * height}\")\n",
        "print(f\"Perimeter: {2 * (base + height)}\")"
      ],
      "execution_count": 32,
      "outputs": [
        {
          "output_type": "stream",
          "text": [
            "Base: 8.5\n",
            "Height: 6.2\n",
            "Area: 52.7\n",
            "Perimeter: 29.4\n"
          ],
          "name": "stdout"
        }
      ]
    }
  ]
}