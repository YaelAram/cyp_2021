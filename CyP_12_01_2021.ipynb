{
  "nbformat": 4,
  "nbformat_minor": 0,
  "metadata": {
    "colab": {
      "name": "CyP_12_01_2021.ipynb",
      "provenance": [],
      "authorship_tag": "ABX9TyP5jQuVuJ+e+pOzfA1o3Z5d",
      "include_colab_link": true
    },
    "kernelspec": {
      "name": "python3",
      "display_name": "Python 3"
    }
  },
  "cells": [
    {
      "cell_type": "markdown",
      "metadata": {
        "id": "view-in-github",
        "colab_type": "text"
      },
      "source": [
        "<a href=\"https://colab.research.google.com/github/YaelAram/cyp_2021/blob/master/CyP_12_01_2021.ipynb\" target=\"_parent\"><img src=\"https://colab.research.google.com/assets/colab-badge.svg\" alt=\"Open In Colab\"/></a>"
      ]
    },
    {
      "cell_type": "code",
      "metadata": {
        "colab": {
          "base_uri": "https://localhost:8080/"
        },
        "id": "aJcME3vRkQnk",
        "outputId": "41d2487b-9f00-4c40-c720-5703664544c7"
      },
      "source": [
        "# Metodo para organizar listas, correcion del entregado en tarea\r\n",
        "# Toma toda la palabra en cuenta y no solo las dos primeras letras\r\n",
        "def ordenar(palabra_1=\"\", palabra_2=\"\"):\r\n",
        "    palabra_1 = palabra_1.lower().split()\r\n",
        "    palabra_2 = palabra_2.lower().split()\r\n",
        "    i, result = 0, 0\r\n",
        "    max = len(palabra_1) if len(palabra_1) <= len(palabra_2) else len(palabra_2)\r\n",
        "\r\n",
        "    for i in range(max):\r\n",
        "        if palabra_1[i] != palabra_2[i]:\r\n",
        "            palabra_1 = palabra_1[i]\r\n",
        "            palabra_2 = palabra_2[i]\r\n",
        "            break\r\n",
        "    \r\n",
        "    if isinstance(palabra_1, list) and isinstance(palabra_2, list):\r\n",
        "        if len(palabra_1) > len(palabra_2):\r\n",
        "            return 1\r\n",
        "        elif len(palabra_1) < len(palabra_2):\r\n",
        "            return -1\r\n",
        "        else:\r\n",
        "            return 0\r\n",
        "\r\n",
        "    while i < (len(palabra_1) if len(palabra_1) <= len(palabra_2) else len(palabra_2)):\r\n",
        "        if ord(palabra_1[i]) < ord(palabra_2[i]):\r\n",
        "            result = -1\r\n",
        "            break\r\n",
        "        elif ord(palabra_1[i]) > ord(palabra_2[i]):\r\n",
        "            result = 1\r\n",
        "            break\r\n",
        "        i += 1\r\n",
        "    return result\r\n",
        "\r\n",
        "pais = [\"Ecuador\", \"Mexico\", \"Costa Rica\", \"Estados Unidos\", \"Canada\", \"Chile\"]\r\n",
        "for i in range(len(pais)):\r\n",
        "    for j in range(len(pais) - 1):\r\n",
        "        result = ordenar(pais[j], pais[j + 1])\r\n",
        "        if result == 1:\r\n",
        "            aux = pais[j + 1]\r\n",
        "            pais[j + 1] = pais[j]\r\n",
        "            pais[j] = aux\r\n",
        "print(pais)\r\n"
      ],
      "execution_count": 51,
      "outputs": [
        {
          "output_type": "stream",
          "text": [
            "['Canada', 'Chile', 'Costa Rica', 'Ecuador', 'Estados Unidos', 'Mexico']\n"
          ],
          "name": "stdout"
        }
      ]
    },
    {
      "cell_type": "code",
      "metadata": {
        "colab": {
          "base_uri": "https://localhost:8080/"
        },
        "id": "pUfrNl0y5OaS",
        "outputId": "6706e2dd-24a3-46b1-f371-76b040cc9727"
      },
      "source": [
        "print(\"Hola\" + \" \" + \"Mundo\")\r\n",
        "print(\"Hola\", \" \", \"Mundo\")\r\n",
        "print(\"Hola {}\".format(\"Mundo\"))\r\n",
        "print(f\"Hola {'Mundo'}\")\r\n",
        "print(\"\\u2661\")\r\n"
      ],
      "execution_count": 54,
      "outputs": [
        {
          "output_type": "stream",
          "text": [
            "Hola Mundo\n",
            "Hola   Mundo\n",
            "Hola Mundo\n",
            "Hola Mundo\n",
            "♡\n"
          ],
          "name": "stdout"
        }
      ]
    }
  ]
}