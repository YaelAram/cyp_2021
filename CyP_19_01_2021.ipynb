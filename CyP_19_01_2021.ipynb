{
  "nbformat": 4,
  "nbformat_minor": 0,
  "metadata": {
    "colab": {
      "name": "CyP_19_01_2021.ipynb",
      "provenance": [],
      "authorship_tag": "ABX9TyPJomK2lW8FJPvCuzafrIeA",
      "include_colab_link": true
    },
    "kernelspec": {
      "name": "python3",
      "display_name": "Python 3"
    }
  },
  "cells": [
    {
      "cell_type": "markdown",
      "metadata": {
        "id": "view-in-github",
        "colab_type": "text"
      },
      "source": [
        "<a href=\"https://colab.research.google.com/github/YaelAram/cyp_2021/blob/master/CyP_19_01_2021.ipynb\" target=\"_parent\"><img src=\"https://colab.research.google.com/assets/colab-badge.svg\" alt=\"Open In Colab\"/></a>"
      ]
    },
    {
      "cell_type": "code",
      "metadata": {
        "colab": {
          "base_uri": "https://localhost:8080/"
        },
        "id": "HkQrcUtkmBzk",
        "outputId": "b0188e95-3bd4-4274-94af-68b32bdba924"
      },
      "source": [
        "# Repaso de slicing\r\n",
        "frase = \"Como hacer a la gente mas positiva?, muy facil, ¡has que pierdan un electron!\"\r\n",
        "print(frase[6:9])\r\n",
        "\r\n",
        "# Imprimir frase al reves, si esta vacio se toma un valor por defecto, en este caso el inicio y final de la cadena \r\n",
        "print(frase[::-1])\r\n",
        "# Si indicas en la primera posicion un indice negativo, el final automaticamente respondera a ese indexado (indexado alternativo)\r\n",
        "print(frase[-1::-1])\r\n",
        "# Imprirmir la frase en orden con indexado alternativo, el numero por defecto es el inicio de la cadena (indice de la letra C)\r\n",
        "print(frase[:-1:1])\r\n"
      ],
      "execution_count": 8,
      "outputs": [
        {
          "output_type": "stream",
          "text": [
            "ace\n",
            "!nortcele nu nadreip euq sah¡ ,licaf yum ,?avitisop sam etneg al a recah omoC\n",
            "!nortcele nu nadreip euq sah¡ ,licaf yum ,?avitisop sam etneg al a recah omoC\n",
            "Como hacer a la gente mas positiva?, muy facil, ¡has que pierdan un electron\n"
          ],
          "name": "stdout"
        }
      ]
    },
    {
      "cell_type": "code",
      "metadata": {
        "colab": {
          "base_uri": "https://localhost:8080/"
        },
        "id": "AwQ9Yt9638qX",
        "outputId": "72fc9c48-7847-4530-905d-7a3c3445fee5"
      },
      "source": [
        "# Para obtener ayuda con la documentacion, se indica la clase y el metodo, tambien se puede especificar toda la clase\r\n",
        "# print(help(str))\r\n",
        "print(help(str.capitalize))"
      ],
      "execution_count": 14,
      "outputs": [
        {
          "output_type": "stream",
          "text": [
            "Help on method_descriptor:\n",
            "\n",
            "capitalize(...)\n",
            "    S.capitalize() -> str\n",
            "    \n",
            "    Return a capitalized version of S, i.e. make the first character\n",
            "    have upper case and the rest lower case.\n",
            "\n",
            "None\n"
          ],
          "name": "stdout"
        }
      ]
    },
    {
      "cell_type": "code",
      "metadata": {
        "colab": {
          "base_uri": "https://localhost:8080/"
        },
        "id": "fdv0sEyFxP7O",
        "outputId": "63d28bf5-2817-437e-e4f0-b3905c4c2c13"
      },
      "source": [
        "# En python todo es un obejto, por lo que hay metodos por defecto para cada tipo de dato\r\n",
        "#Metodos de las cadenas de texto o string\r\n",
        "frase = \"hola mundo!\"\r\n",
        "# upper() Devuelve la cade en mayusculas\r\n",
        "print(frase.upper())\r\n",
        "# lower() Devuelve la cadena en minusculas\r\n",
        "print(frase.lower)\r\n",
        "# capitalize() Devuelve la cadena con la primera letra en mayuscula\r\n",
        "print(frase.capitalize())\r\n",
        "# title() Deuelve la cadena con cada palabra con su primera letra en mayuscula\r\n",
        "print(frase.title)\r\n",
        "# count() Devuelve una cuenta de las veces que aparece una subcadena en la cadena\r\n",
        "print(frase.count(\"mundo\"))\r\n",
        "# find() Devuelve el índice en el que aparece la subcadena (-1 si no aparece)\r\n",
        "print(frase.find(\"Mundo\"))\r\n",
        "# rfind() Devuelve el índice en el que aparece la subcadena, empezando por el final\r\n",
        "print(\"Hola mundo mundo mundo\".rfind('mundo'))\r\n",
        "# isdigit() Devuelve True si la cadena es todo números (False en caso contrario)\r\n",
        "print(frase.isdigit())\r\n",
        "# isalnum() Devuelve True si la cadena es todo números o carácteres alfabéticos\r\n",
        "print(frase.isalnum())\r\n",
        "# isalpha() Devuelve True si la cadena es todo carácteres alfabéticos\r\n",
        "print(frase.isalpha())\r\n",
        "# islower() Devuelve True si la cadena es todo minúsculas\r\n",
        "print(frase.islower())\r\n",
        "# isupper() Devuelve True si la cadena es todo mayúsculas\r\n",
        "print(frase.isupper())\r\n",
        "# istitle() Devuelve True si la primera letra de cada palabra es mayúscula\r\n",
        "print(frase.istitle())\r\n",
        "# isspace() Devuelve True si la cadena es todo espacios\r\n",
        "print(frase.isspace())\r\n",
        "# startswith() Devuelve True si la cadena empieza con una subcadena\r\n",
        "print(frase.startswith(\"hola\"))\r\n",
        "# endswith() Devuelve True si la cadena acaba con una subcadena\r\n",
        "print(frase.endswith(\"mundo\"))\r\n",
        "# split() Separa la cadena en subcadenas a partir de sus espacios y devuelve una lista, se puede especificar un caracter\r\n",
        "print(frase.split())\r\n",
        "print(frase.split('o'))\r\n",
        "# join() Une todos los caracteres de una cadena utilizando un caracter de unión\r\n",
        "print(','.join(frase))\r\n",
        "# strip() Borra todos los espacios por delante y detrás de una cadena y la devuelve\r\n",
        "print(\"   Hola    \".strip())\r\n",
        "# replace() Reemplaza una subcadena de una cadena por otra y la devuelve, podemos especificar cuantas veces queremos que se reemplace\r\n",
        "print(\"Hola mundo\".replace('o', 'O'))\r\n",
        "print(\"Hola mundo mundo\".replace('o', 'O', 2))\r\n"
      ],
      "execution_count": 11,
      "outputs": [
        {
          "output_type": "stream",
          "text": [
            "HOLA MUNDO!\n",
            "<built-in method lower of str object at 0x7f80fcd16430>\n",
            "Hola mundo!\n",
            "<built-in method title of str object at 0x7f80fcd16430>\n",
            "1\n",
            "-1\n",
            "17\n",
            "False\n",
            "False\n",
            "False\n",
            "True\n",
            "False\n",
            "False\n",
            "False\n",
            "True\n",
            "False\n",
            "['hola', 'mundo!']\n",
            "['h', 'la mund', '!']\n",
            "h,o,l,a, ,m,u,n,d,o,!\n",
            "Hola\n",
            "HOla mundO\n",
            "HOla mundO mundo\n"
          ],
          "name": "stdout"
        }
      ]
    },
    {
      "cell_type": "code",
      "metadata": {
        "colab": {
          "base_uri": "https://localhost:8080/"
        },
        "id": "d3jEUQIa5aF1",
        "outputId": "5909a4ea-4fc7-40ba-94ff-92e0c2fa9b43"
      },
      "source": [
        "# Convertir a lista y quitar el exceso de espacios\r\n",
        "cadena = \"   1, 2,     3   , 4,        5\"\r\n",
        "lista = cadena.split(',')\r\n",
        "numeros = []\r\n",
        "for i in lista:\r\n",
        "    numeros.append(int(i.strip()))\r\n",
        "print(cadena)\r\n",
        "print(lista)\r\n",
        "print(numeros)\r\n"
      ],
      "execution_count": 22,
      "outputs": [
        {
          "output_type": "stream",
          "text": [
            "   1, 2,     3   , 4,        5\n",
            "['   1', ' 2', '     3   ', ' 4', '        5']\n",
            "[1, 2, 3, 4, 5]\n"
          ],
          "name": "stdout"
        }
      ]
    },
    {
      "cell_type": "code",
      "metadata": {
        "colab": {
          "base_uri": "https://localhost:8080/"
        },
        "id": "C9DbfsOI7zH-",
        "outputId": "7ee437f7-b494-4a77-9621-ea0eab0e3bff"
      },
      "source": [
        "cadena = \"1,a,2,3f,a,3\"\r\n",
        "cadena = cadena.split(',')\r\n",
        "for index, i in enumerate(cadena):\r\n",
        "    if i.isdigit():\r\n",
        "        cadena[index] = int(i)\r\n",
        "print(cadena)\r\n"
      ],
      "execution_count": 36,
      "outputs": [
        {
          "output_type": "stream",
          "text": [
            "[1, 'a', 2, '3f', 'a', 3]\n"
          ],
          "name": "stdout"
        }
      ]
    }
  ]
}