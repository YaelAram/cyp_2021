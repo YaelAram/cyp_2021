{
  "nbformat": 4,
  "nbformat_minor": 0,
  "metadata": {
    "colab": {
      "name": "CyP_07_01_2021.ipynb",
      "provenance": [],
      "authorship_tag": "ABX9TyPRuUR6IT9Jy6yEMpl/hurN",
      "include_colab_link": true
    },
    "kernelspec": {
      "name": "python3",
      "display_name": "Python 3"
    }
  },
  "cells": [
    {
      "cell_type": "markdown",
      "metadata": {
        "id": "view-in-github",
        "colab_type": "text"
      },
      "source": [
        "<a href=\"https://colab.research.google.com/github/YaelAram/cyp_2021/blob/master/CyP_07_01_2021.ipynb\" target=\"_parent\"><img src=\"https://colab.research.google.com/assets/colab-badge.svg\" alt=\"Open In Colab\"/></a>"
      ]
    },
    {
      "cell_type": "code",
      "metadata": {
        "colab": {
          "base_uri": "https://localhost:8080/"
        },
        "id": "6vhYZ8PA4eQp",
        "outputId": "74e417fa-efbd-471f-bb07-ee43e98b4618"
      },
      "source": [
        "mes = [\"Enero\", \"Febrero\", \"Marzo\", \"Abril\", \"Mayo\", \"Junio\", \"Julio\", \"Agosto\", \"Septiembre\", \"Octubre\", \"Noviembre\", \"Diciembre\"]\r\n",
        "estado = [\"Morelos\", \"Mexico\", \"Queretaro\", \"Puebla\"]\r\n",
        "registro = []\r\n",
        "for i in range(12):\r\n",
        "    aux_lista = []\r\n",
        "    for j in range(4):\r\n",
        "        aux = int(input(f\"Lluvias {estado[j]} - {mes[i]} : \"))\r\n",
        "        aux_lista.append(aux if aux >= 0 else 0)\r\n",
        "    registro.append(aux_lista)\r\n",
        "print(registro)\r\n"
      ],
      "execution_count": 7,
      "outputs": [
        {
          "output_type": "stream",
          "text": [
            "Lluvias Morelos - Enero : 50\n",
            "Lluvias Mexico - Enero : 45\n",
            "Lluvias Queretaro - Enero : 60\n",
            "Lluvias Puebla - Enero : 58\n",
            "Lluvias Morelos - Febrero : 7\n",
            "Lluvias Mexico - Febrero : 3\n",
            "Lluvias Queretaro - Febrero : 15\n",
            "Lluvias Puebla - Febrero : 22\n",
            "Lluvias Morelos - Marzo : 12\n",
            "Lluvias Mexico - Marzo : 10\n",
            "Lluvias Queretaro - Marzo : 8\n",
            "Lluvias Puebla - Marzo : 17\n",
            "Lluvias Morelos - Abril : 15\n",
            "Lluvias Mexico - Abril : 5\n",
            "Lluvias Queretaro - Abril : 20\n",
            "Lluvias Puebla - Abril : 35\n",
            "Lluvias Morelos - Mayo : 22\n",
            "Lluvias Mexico - Mayo : 30\n",
            "Lluvias Queretaro - Mayo : 15\n",
            "Lluvias Puebla - Mayo : 22\n",
            "Lluvias Morelos - Junio : 50\n",
            "Lluvias Mexico - Junio : 90\n",
            "Lluvias Queretaro - Junio : 60\n",
            "Lluvias Puebla - Junio : 100\n",
            "Lluvias Morelos - Julio : 85\n",
            "Lluvias Mexico - Julio : 130\n",
            "Lluvias Queretaro - Julio : 20\n",
            "Lluvias Puebla - Julio : 88\n",
            "Lluvias Morelos - Agosto : 70\n",
            "Lluvias Mexico - Agosto : 75\n",
            "Lluvias Queretaro - Agosto : 88\n",
            "Lluvias Puebla - Agosto : 94\n",
            "Lluvias Morelos - Septiembre : 65\n",
            "Lluvias Mexico - Septiembre : 49\n",
            "Lluvias Queretaro - Septiembre : 53\n",
            "Lluvias Puebla - Septiembre : 105\n",
            "Lluvias Morelos - Octubre : 28\n",
            "Lluvias Mexico - Octubre : 37\n",
            "Lluvias Queretaro - Octubre : 29\n",
            "Lluvias Puebla - Octubre : 37\n",
            "Lluvias Morelos - Noviembre : 35\n",
            "Lluvias Mexico - Noviembre : 15\n",
            "Lluvias Queretaro - Noviembre : 22\n",
            "Lluvias Puebla - Noviembre : 4\n",
            "Lluvias Morelos - Diciembre : 17\n",
            "Lluvias Mexico - Diciembre : 8\n",
            "Lluvias Queretaro - Diciembre : 14\n",
            "Lluvias Puebla - Diciembre : -1\n",
            "[[50, 45, 60, 58], [7, 3, 15, 22], [12, 10, 8, 17], [15, 5, 20, 35], [22, 30, 15, 22], [50, 90, 60, 100], [85, 130, 20, 88], [70, 75, 88, 94], [65, 49, 53, 105], [28, 37, 29, 37], [35, 15, 22, 4], [17, 8, 14, 0]]\n"
          ],
          "name": "stdout"
        }
      ]
    },
    {
      "cell_type": "code",
      "metadata": {
        "colab": {
          "base_uri": "https://localhost:8080/"
        },
        "id": "v_Fjzeo0DboY",
        "outputId": "9abfd2c8-88cb-46a1-e785-1b43a3d79c27"
      },
      "source": [
        "mes = [\"Enero\", \"Febrero\", \"Marzo\", \"Abril\", \"Mayo\", \"Junio\", \"Julio\", \"Agosto\", \"Septiembre\", \"Octubre\", \"Noviembre\", \"Diciembre\"]\r\n",
        "estado = [\"Morelos\", \"Mexico\", \"Queretaro\", \"Puebla\"]\r\n",
        "registro = [[50, 45, 60, 58], [7, 3, 15, 22], [12, 10, 8, 17], [15, 5, 20, 35], [22, 30, 15, 22], [50, 90, 60, 100], [85, 130, 20, 88], [70, 75, 88, 94], [65, 49, 53, 105], [28, 37, 29, 37], [35, 15, 22, 4], [17, 8, 14, 0]]\r\n",
        "while True:\r\n",
        "    print(\"Menu \\n1. Registro por mes \\n2. Registro por estado \\n3. Salir\")\r\n",
        "    opcion = int(input(\"Opcion: \"))\r\n",
        "    if opcion == 1:\r\n",
        "        print(\"Registro por mes\")\r\n",
        "        for index, i in enumerate(mes):\r\n",
        "            print(f\"{index + 1}. {i}\")\r\n",
        "        mes_aux = int(input(\"Mes: \"))\r\n",
        "        for i in range(4):\r\n",
        "            print(f\"Lluvias {estado[i]} - {mes[mes_aux - 1]}: {registro[mes_aux - 1][i]}\")\r\n",
        "    elif opcion == 2:\r\n",
        "        print(\"Registro por estado\")\r\n",
        "        for index, i in enumerate(estado):\r\n",
        "            print(f\"{index + 1}. {i}\")\r\n",
        "        estado_aux = int(input(\"Estado: \"))\r\n",
        "        cont = 0\r\n",
        "        for i in range(12):\r\n",
        "            print(f\"Lluvias {estado[estado_aux - 1]} - {mes[i]}: {registro[i][estado_aux - 1]}\")\r\n",
        "            cont += registro[i][estado_aux - 1]\r\n",
        "        print(f\"Promedio anual {estado[estado_aux - 1]}: {cont/12}\")\r\n",
        "    else:\r\n",
        "        break\r\n"
      ],
      "execution_count": 13,
      "outputs": [
        {
          "output_type": "stream",
          "text": [
            "Menu \n",
            "1. Registro por mes \n",
            "2. Registro por estado \n",
            "3. Salir\n",
            "Opcion: 1\n",
            "Registro por mes\n",
            "1. Enero\n",
            "2. Febrero\n",
            "3. Marzo\n",
            "4. Abril\n",
            "5. Mayo\n",
            "6. Junio\n",
            "7. Julio\n",
            "8. Agosto\n",
            "9. Septiembre\n",
            "10. Octubre\n",
            "11. Noviembre\n",
            "12. Diciembre\n",
            "Mes: 3\n",
            "Lluvias Morelos - Marzo: 12\n",
            "Lluvias Mexico - Marzo: 10\n",
            "Lluvias Queretaro - Marzo: 8\n",
            "Lluvias Puebla - Marzo: 17\n",
            "Menu \n",
            "1. Registro por mes \n",
            "2. Registro por estado \n",
            "3. Salir\n",
            "Opcion: 2\n",
            "Registro por estado\n",
            "1. Morelos\n",
            "2. Mexico\n",
            "3. Queretaro\n",
            "4. Puebla\n",
            "Estado: 1\n",
            "Lluvias Morelos - Enero: 50\n",
            "Lluvias Morelos - Febrero: 7\n",
            "Lluvias Morelos - Marzo: 12\n",
            "Lluvias Morelos - Abril: 15\n",
            "Lluvias Morelos - Mayo: 22\n",
            "Lluvias Morelos - Junio: 50\n",
            "Lluvias Morelos - Julio: 85\n",
            "Lluvias Morelos - Agosto: 70\n",
            "Lluvias Morelos - Septiembre: 65\n",
            "Lluvias Morelos - Octubre: 28\n",
            "Lluvias Morelos - Noviembre: 35\n",
            "Lluvias Morelos - Diciembre: 17\n",
            "Promedio anual Morelos: 38.0\n",
            "Menu \n",
            "1. Registro por mes \n",
            "2. Registro por estado \n",
            "3. Salir\n",
            "Opcion: 3\n"
          ],
          "name": "stdout"
        }
      ]
    }
  ]
}