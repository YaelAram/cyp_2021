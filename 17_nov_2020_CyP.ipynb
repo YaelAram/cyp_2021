{
  "nbformat": 4,
  "nbformat_minor": 0,
  "metadata": {
    "colab": {
      "name": "17_nov_2020_CyP.ipynb",
      "provenance": [],
      "authorship_tag": "ABX9TyMR7MPx33ZIQS6WIwzoBmBl",
      "include_colab_link": true
    },
    "kernelspec": {
      "name": "python3",
      "display_name": "Python 3"
    }
  },
  "cells": [
    {
      "cell_type": "markdown",
      "metadata": {
        "id": "view-in-github",
        "colab_type": "text"
      },
      "source": [
        "<a href=\"https://colab.research.google.com/github/YaelAram/cyp_2021/blob/master/17_nov_2020_CyP.ipynb\" target=\"_parent\"><img src=\"https://colab.research.google.com/assets/colab-badge.svg\" alt=\"Open In Colab\"/></a>"
      ]
    },
    {
      "cell_type": "code",
      "metadata": {
        "colab": {
          "base_uri": "https://localhost:8080/"
        },
        "id": "pdzZlBCPSAuG",
        "outputId": "b283cab0-e23a-4d9e-8cbe-fc3f9afd74cb"
      },
      "source": [
        "edad = 15\n",
        "estatura = 1.67\n",
        "a = 10\n",
        "b = 3\n",
        "\n",
        "c = 2 ** b + 2 \n",
        "print(c)\n",
        "\n",
        "print(estatura * 2.0)\n",
        "\n",
        "print(a / b)\n",
        "\n",
        "print(a // b)\n",
        "\n",
        "print(a % b)\n",
        "\n",
        "print(\"Par\" if (a%2 == 0) else \"Impar\")\n",
        "\n",
        "print((a-(a+b))/3)\n",
        "\n",
        "print((a-a+b)/3)\n",
        "\n",
        "print(a-a+b/3)\n",
        "\n",
        "#Operadores Logicos\n",
        "\n",
        "valor = (a==b)\n",
        "print(valor)\n",
        "print(not valor)\n",
        "valor = (a!=b)\n",
        "print(valor)\n",
        "\n",
        "if valor :\n",
        "    print(\"Fue cierto\")\n",
        "else :\n",
        "    print(\"Fue falso\")\n",
        "\n",
        "print(5>3)\n",
        "print(5<3)\n",
        "print(5==5)\n",
        "print(5!=3)\n",
        "\n",
        "capital_en_bolsa = 10\n",
        "costo_chetos = True\n",
        "tienda_abierta = 7\n",
        "\n",
        "if (capital_en_bolsa >= costo_chetos) and tienda_abierta : \n",
        "    print(\"Comprar chetos\")\n",
        "else : \n",
        "    print(\"No comprar\")\n"
      ],
      "execution_count": 20,
      "outputs": [
        {
          "output_type": "stream",
          "text": [
            "10\n",
            "3.34\n",
            "3.3333333333333335\n",
            "3\n",
            "1\n",
            "Par\n",
            "-1.0\n",
            "1.0\n",
            "1.0\n",
            "False\n",
            "True\n",
            "True\n",
            "Fue cierto\n",
            "True\n",
            "False\n",
            "True\n",
            "True\n",
            "Comprar chetos\n"
          ],
          "name": "stdout"
        }
      ]
    }
  ]
}