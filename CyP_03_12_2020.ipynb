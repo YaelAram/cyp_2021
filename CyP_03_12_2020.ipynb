{
  "nbformat": 4,
  "nbformat_minor": 0,
  "metadata": {
    "colab": {
      "name": "CyP_03_12_2020.ipynb",
      "provenance": [],
      "authorship_tag": "ABX9TyOFhipHNmJPYNLdLfQb8qsG",
      "include_colab_link": true
    },
    "kernelspec": {
      "name": "python3",
      "display_name": "Python 3"
    }
  },
  "cells": [
    {
      "cell_type": "markdown",
      "metadata": {
        "id": "view-in-github",
        "colab_type": "text"
      },
      "source": [
        "<a href=\"https://colab.research.google.com/github/YaelAram/cyp_2021/blob/master/CyP_03_12_2020.ipynb\" target=\"_parent\"><img src=\"https://colab.research.google.com/assets/colab-badge.svg\" alt=\"Open In Colab\"/></a>"
      ]
    },
    {
      "cell_type": "code",
      "metadata": {
        "colab": {
          "base_uri": "https://localhost:8080/"
        },
        "id": "jzLBFfdjkaGi",
        "outputId": "47e50c05-6b34-4675-f44f-46b983834da8"
      },
      "source": [
        "coleccion = [1, 2, 3, 4, 5]\n",
        "for i in reversed(coleccion) :\n",
        "    print(i)\n"
      ],
      "execution_count": 7,
      "outputs": [
        {
          "output_type": "stream",
          "text": [
            "5\n",
            "4\n",
            "3\n",
            "2\n",
            "1\n"
          ],
          "name": "stdout"
        }
      ]
    },
    {
      "cell_type": "code",
      "metadata": {
        "colab": {
          "base_uri": "https://localhost:8080/"
        },
        "id": "VSRJRUdnoUOd",
        "outputId": "d3072aec-d9a7-4544-ff0a-7fc3cb86a9a9"
      },
      "source": [
        "diccionario = {'Nombre':\"Yael\", 'Edad':20}\n",
        "print(f\"{diccionario['Nombre']} tiene {diccionario['Edad']} años\")\n",
        "\n",
        "for key in diccionario :\n",
        "    print(f\"{key} : {diccionario[key]}\")\n",
        "    "
      ],
      "execution_count": 15,
      "outputs": [
        {
          "output_type": "stream",
          "text": [
            "Yael tiene 20 años\n",
            "Nombre : Yael\n",
            "Edad : 20\n"
          ],
          "name": "stdout"
        }
      ]
    },
    {
      "cell_type": "code",
      "metadata": {
        "colab": {
          "base_uri": "https://localhost:8080/"
        },
        "id": "Efgxx_R7rZQv",
        "outputId": "e3214ba4-e442-4dd6-ee32-9a36d730b09c"
      },
      "source": [
        "diccionario = {'Nombre':\"Yael\", 'Edad':20}\n",
        "for key, value in diccionario.items() :\n",
        "    print(f\"{key} : {value}\")"
      ],
      "execution_count": 17,
      "outputs": [
        {
          "output_type": "stream",
          "text": [
            "Nombre : Yael\n",
            "Edad : 20\n"
          ],
          "name": "stdout"
        }
      ]
    },
    {
      "cell_type": "code",
      "metadata": {
        "colab": {
          "base_uri": "https://localhost:8080/"
        },
        "id": "Gwu3LbPqsZ23",
        "outputId": "d537ee4a-42fa-45ad-eb73-1fccf314ac0b"
      },
      "source": [
        "email = input(\"Email: \")\n",
        "flag = False\n",
        "for i in email :\n",
        "    if i == '@' :\n",
        "        flag = True\n",
        "        break\n",
        "print(\"Es un email\" if flag else \"No es un email\")\n"
      ],
      "execution_count": 26,
      "outputs": [
        {
          "output_type": "stream",
          "text": [
            "Email: yaelaram14@gmail.com\n",
            "Es un email\n"
          ],
          "name": "stdout"
        }
      ]
    },
    {
      "cell_type": "code",
      "metadata": {
        "colab": {
          "base_uri": "https://localhost:8080/"
        },
        "id": "wYYC5M3Fuvi_",
        "outputId": "e121539e-7cd6-4791-a611-d4e7ae5fa635"
      },
      "source": [
        "for i in range(0, 4, 1) :\n",
        "    print(i)\n",
        "abecedario = \"\"\n",
        "for i in range(26) :\n",
        "    abecedario += chr(65+i)\n",
        "print(abecedario)\n"
      ],
      "execution_count": 39,
      "outputs": [
        {
          "output_type": "stream",
          "text": [
            "0\n",
            "1\n",
            "2\n",
            "3\n",
            "ABCDEFGHIJKLMNOPQRSTUVWXYZ\n"
          ],
          "name": "stdout"
        }
      ]
    },
    {
      "cell_type": "code",
      "metadata": {
        "colab": {
          "base_uri": "https://localhost:8080/"
        },
        "id": "o97_4PH9yG8I",
        "outputId": "82e10c6a-c04f-45f2-a793-a037753bd748"
      },
      "source": [
        "flag = 1\n",
        "while flag <= 4 :\n",
        "    print(f\"flag = {flag}\")\n",
        "    flag += 1\n"
      ],
      "execution_count": 44,
      "outputs": [
        {
          "output_type": "stream",
          "text": [
            "flag = 1\n",
            "flag = 2\n",
            "flag = 3\n",
            "flag = 4\n"
          ],
          "name": "stdout"
        }
      ]
    }
  ]
}