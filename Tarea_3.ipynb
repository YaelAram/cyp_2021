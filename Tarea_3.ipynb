{
  "nbformat": 4,
  "nbformat_minor": 0,
  "metadata": {
    "colab": {
      "name": "Tarea_3.ipynb",
      "provenance": [],
      "authorship_tag": "ABX9TyP4jRsbZ1BY3748y3T/NjQm",
      "include_colab_link": true
    },
    "kernelspec": {
      "name": "python3",
      "display_name": "Python 3"
    }
  },
  "cells": [
    {
      "cell_type": "markdown",
      "metadata": {
        "id": "view-in-github",
        "colab_type": "text"
      },
      "source": [
        "<a href=\"https://colab.research.google.com/github/YaelAram/cyp_2021/blob/master/Tarea_3.ipynb\" target=\"_parent\"><img src=\"https://colab.research.google.com/assets/colab-badge.svg\" alt=\"Open In Colab\"/></a>"
      ]
    },
    {
      "cell_type": "code",
      "metadata": {
        "colab": {
          "base_uri": "https://localhost:8080/"
        },
        "id": "IIc2zKCK57yE",
        "outputId": "3894d8ce-e78a-43d1-cc0f-ead5d1b33e5f"
      },
      "source": [
        "#Problema 1.1\n",
        "#Calcular e imprimir el cambio que se entrega al cliente\n",
        "\n",
        "prepago = float(input(\"Prepago: \"))\n",
        "pago = float(input(\"Pago: \"))\n",
        "if prepago < 0 :\n",
        "    print(\"Los precios no pueden ser negativos.\")\n",
        "elif prepago == 0 :\n",
        "    print(\"El producto es gratis.\")\n",
        "else :\n",
        "    if pago < 0 :\n",
        "        print(\"El cliente esta robando.\")\n",
        "    elif pago == 0 : \n",
        "        print(\"El cliente no esta pagando.\")\n",
        "    else :\n",
        "        if pago < prepago : \n",
        "            print(\"Dinero insuficiente.\")\n",
        "        else :\n",
        "            print(f\"El cambio es: ${pago - prepago}\")"
      ],
      "execution_count": 16,
      "outputs": [
        {
          "output_type": "stream",
          "text": [
            "Prepago: 49.2\n",
            "Pago: 100\n",
            "El cambio es: $50.8\n"
          ],
          "name": "stdout"
        }
      ]
    },
    {
      "cell_type": "code",
      "metadata": {
        "colab": {
          "base_uri": "https://localhost:8080/"
        },
        "id": "RugL1EyK8ujp",
        "outputId": "004015e6-f6c1-4441-ef43-6807b8b62bf0"
      },
      "source": [
        "#Problema 1.2\n",
        "#Obtener el area de un triangulo\n",
        "\n",
        "base = float(input(\"Base: \"))\n",
        "altura = float(input(\"Altura: \"))\n",
        "if (base < 0) or (altura < 0) : \n",
        "    print(\"Verifica lso datos.\")\n",
        "else :\n",
        "    print(f\"Area: {(base * altura)/2} u\\u00B2\")"
      ],
      "execution_count": 52,
      "outputs": [
        {
          "output_type": "stream",
          "text": [
            "Base: 11.6\n",
            "Altura: 7.4\n",
            "Area: 42.92 u²\n"
          ],
          "name": "stdout"
        }
      ]
    },
    {
      "cell_type": "code",
      "metadata": {
        "colab": {
          "base_uri": "https://localhost:8080/"
        },
        "id": "DyFMEiO5-RlK",
        "outputId": "e2b1583c-c7d6-4a89-d39d-a3bc9828bc86"
      },
      "source": [
        "#Problema 1.3\n",
        "#Imprimir el nombre del dinosaurio dado, convertir de lb a kg su peso\n",
        "#Convertir de ft a m su longitud\n",
        "#1.0 lb = 0.453592 kg\n",
        "#1.0 ft = 0.3048 m\n",
        "\n",
        "nombre = input(\"Nombre del dinosaurio: \")\n",
        "peso = float(input(\"Peso (lb): \"))\n",
        "longitud = float(input(\"Longitud (ft): \"))\n",
        "\n",
        "if (peso < 0) or (longitud < 0) :\n",
        "    print(\"No se aceptan cantidades negativas.\")\n",
        "else :\n",
        "    print(nombre)\n",
        "    print(f\"Peso: {peso * 0.453592} kg = {(peso * 0.453592)/1000} t\")\n",
        "    print(f\"Longitud: {longitud * 0.3048} m\")\n"
      ],
      "execution_count": 50,
      "outputs": [
        {
          "output_type": "stream",
          "text": [
            "Nombre del dinosaurio: Tyrannosaurus\n",
            "Peso (lb): 8\n",
            "Longitud (ft): 30\n",
            "Tyrannosaurus\n",
            "Peso: 3.628736 kg = 0.003628736 t\n",
            "Longitud: 9.144 m\n"
          ],
          "name": "stdout"
        }
      ]
    },
    {
      "cell_type": "code",
      "metadata": {
        "colab": {
          "base_uri": "https://localhost:8080/"
        },
        "id": "sWC9D-PPBnYo",
        "outputId": "d5bca146-b49b-4d0f-ec59-b70ca3ac6c28"
      },
      "source": [
        "#Problema 1.4\n",
        "#Convertir de galon americano a litros, calcular el precio a pagar.\n",
        "#1.0 galon americano = 3.785 lt\n",
        "#Precio de la gasolina por litro $8.2\n",
        "\n",
        "galonesGasolina = float(input(\"Galones de gasolina: \"))\n",
        "if galonesGasolina < 0 : \n",
        "    print(\"No se pueden vender galones negativos.\")\n",
        "else :\n",
        "    print(f\"Factura: {galonesGasolina * 3.78541} lt de gasolina.\\nTotal: ${galonesGasolina * 3.785 * 8.2}\")\n",
        "    "
      ],
      "execution_count": 42,
      "outputs": [
        {
          "output_type": "stream",
          "text": [
            "Galones de gasolina: 19.9\n",
            "Factura: 75.32965899999999 lt de gasolina.\n",
            "Total: $617.6363\n"
          ],
          "name": "stdout"
        }
      ]
    },
    {
      "cell_type": "code",
      "metadata": {
        "colab": {
          "base_uri": "https://localhost:8080/"
        },
        "id": "QHJ50s9mEQGE",
        "outputId": "3969ece2-f3d6-47d9-931f-1398cdc3dd08"
      },
      "source": [
        "#Problema 1.5\n",
        "#Calcular area y columen de un cilindro\n",
        "\n",
        "PI = 3.14159265359\n",
        "radio = float(input(\"Radio: \"))\n",
        "altura = float(input(\"Altura: \"))\n",
        "if (radio < 0) or (altura < 0) : \n",
        "    print(\"No se permite radio o altura negativos.\")\n",
        "else :\n",
        "    areaBaseCilindro = PI * (radio ** 2)\n",
        "    areaLateral = 2.0 * PI * radio * altura\n",
        "    print(f\"Area lateral: {areaLateral} u\\u00B2\")\n",
        "    print(f\"Area de la base {areaBaseCilindro} u\\u00B2\")\n",
        "    print(f\"Area total: {areaLateral + (2 * areaBaseCilindro)} u\\u00B2\")\n",
        "    print(f\"Volumen: {areaBaseCilindro * altura} u\\u00B3\")\n"
      ],
      "execution_count": 51,
      "outputs": [
        {
          "output_type": "stream",
          "text": [
            "Radio: 85.9\n",
            "Altura: 237.2\n",
            "Area lateral: 128022.91656273995 u²\n",
            "Area de la base 23181.21528823643 u²\n",
            "Area total: 174385.34713921283 u²\n",
            "Volumen: 5498584.266369681 u³\n"
          ],
          "name": "stdout"
        }
      ]
    },
    {
      "cell_type": "code",
      "metadata": {
        "colab": {
          "base_uri": "https://localhost:8080/"
        },
        "id": "3Q8MVnhIG_Xj",
        "outputId": "9092257a-4eac-4462-ab00-e10001d482ee"
      },
      "source": [
        "#Problema 1.6\n",
        "#Calcular el numero de segundo en una cantidad de dias\n",
        "\n",
        "dias = int(input(\"Dias: \"))\n",
        "if dias < 0 :\n",
        "    print(\"No se aceptan cantidades negativas.\")\n",
        "else :\n",
        "    print(f\"En {dias} dias hay {dias * 24 * 60 * 60} segundos.\")\n",
        "    "
      ],
      "execution_count": 36,
      "outputs": [
        {
          "output_type": "stream",
          "text": [
            "Dias: 3\n",
            "En 3 dias hay 259200 segundos.\n"
          ],
          "name": "stdout"
        }
      ]
    }
  ]
}