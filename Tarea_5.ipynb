{
  "nbformat": 4,
  "nbformat_minor": 0,
  "metadata": {
    "colab": {
      "name": "Tarea_5.ipynb",
      "provenance": [],
      "authorship_tag": "ABX9TyMo1ylOfTxxVOadA7+UPIWh",
      "include_colab_link": true
    },
    "kernelspec": {
      "name": "python3",
      "display_name": "Python 3"
    }
  },
  "cells": [
    {
      "cell_type": "markdown",
      "metadata": {
        "id": "view-in-github",
        "colab_type": "text"
      },
      "source": [
        "<a href=\"https://colab.research.google.com/github/YaelAram/cyp_2021/blob/master/Tarea_5.ipynb\" target=\"_parent\"><img src=\"https://colab.research.google.com/assets/colab-badge.svg\" alt=\"Open In Colab\"/></a>"
      ]
    },
    {
      "cell_type": "code",
      "metadata": {
        "colab": {
          "base_uri": "https://localhost:8080/"
        },
        "id": "zRRk8M-5C9kz",
        "outputId": "b0aca429-72ca-404a-d9aa-addb4a156fd3"
      },
      "source": [
        "#Ejercicio 3.1 (pag. 109)\n",
        "msg = \"Sueldo: $\"\n",
        "salario = [float(input(msg)), float(input(msg)), float(input(msg)), float(input(msg)), float(input(msg)), float(input(msg)), float(input(msg)), float(input(msg)), float(input(msg)), float(input(msg))]\n",
        "nomina = salario[0] + salario[1] + salario[2] + salario[3] + salario[4] + salario[5] + salario[6] + salario[7] + salario[8] + salario[9]\n",
        "print(f\"Nomina total: ${nomina}\")\n"
      ],
      "execution_count": 6,
      "outputs": [
        {
          "output_type": "stream",
          "text": [
            "Sueldo: $1500\n",
            "Sueldo: $890\n",
            "Sueldo: $700\n",
            "Sueldo: $950\n",
            "Sueldo: $2300\n",
            "Sueldo: $1650\n",
            "Sueldo: $1800\n",
            "Sueldo: $1400\n",
            "Sueldo: $760\n",
            "Sueldo: $900\n",
            "Nomina total: $12850.0\n"
          ],
          "name": "stdout"
        }
      ]
    },
    {
      "cell_type": "code",
      "metadata": {
        "colab": {
          "base_uri": "https://localhost:8080/"
        },
        "id": "dqEnXz2HK-1m",
        "outputId": "00748006-9608-40d7-f75d-3621cba44395"
      },
      "source": [
        "#Ejercicio 3.4 (pag. 117)\n",
        "montoTotal = 0\n",
        "flag = 1.0\n",
        "while flag > 0.0 :\n",
        "    aux = float(input(\"Monto: $\"))\n",
        "    montoTotal += (aux if aux > 0.0 else 0.0)\n",
        "    flag = aux\n",
        "print(f\"El total de gastos es: ${montoTotal}\")\n"
      ],
      "execution_count": 23,
      "outputs": [
        {
          "output_type": "stream",
          "text": [
            "Monto: $2528\n",
            "Monto: $3500\n",
            "Monto: $1600\n",
            "Monto: $1850\n",
            "Monto: $150\n",
            "Monto: $-1\n",
            "El total de gastos es: $9628.0\n"
          ],
          "name": "stdout"
        }
      ]
    }
  ]
}